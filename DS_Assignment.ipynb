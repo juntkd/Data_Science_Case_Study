{
 "cells": [
  {
   "cell_type": "markdown",
   "metadata": {},
   "source": [
    "# Sales Performance Analysis\n",
    "### Wahington Motors"
   ]
  },
  {
   "cell_type": "markdown",
   "metadata": {},
   "source": [
    "__A number of assumptions were made during the analyiss__ \n",
    "\n",
    " _1. Cost of each model has remained the same from 2016_\n",
    "\n",
    " _2. The data provided was from Dec 2016 to till Nov 2019. In order to have full 12 months sale data from 2017 to 2019, Dec 19 sales were extrapolated by applying YTD November rtaio of 2018 and 2019 on Dec 2018 numbers_\n",
    "\n",
    " _3. As all leads are from new and distinct customers, customer id in the Purchase and Lead datasets identifies the same customer_\n",
    "\n",
    " _4. Customer age is assumed to be between 20 to 70 years during the cleaning of dob data_\n",
    "\n",
    " _5.Even though Al-Ain is part of Abu Dhabi Emirate, we treat it as separate Emirate for analysis purpose as it has significant sale volume_\n",
    "\n",
    " _6.We notice that the product value of particular customer in the Lea dataset is not the same as the product value in the Purchase dataset. So it is assumed that these customres initailly enquired about a model and ended up buying a different model_"
   ]
  },
  {
   "cell_type": "code",
   "execution_count": 861,
   "metadata": {},
   "outputs": [],
   "source": [
    "#Importing the required libraries\n",
    "\n",
    "import pandas as pd\n",
    "import numpy as np\n",
    "import matplotlib.pyplot as plt\n",
    "from datetime import datetime\n",
    "import random"
   ]
  },
  {
   "cell_type": "code",
   "execution_count": 862,
   "metadata": {},
   "outputs": [],
   "source": [
    "#loading the Purchase file into dataframe\n",
    "DF_Leads = pd.read_csv(r\"C:\\CaseStudy\\leads.csv\")"
   ]
  },
  {
   "cell_type": "code",
   "execution_count": 863,
   "metadata": {},
   "outputs": [],
   "source": [
    "#loading the Purchase file into dataframe\n",
    "DF_Purchases  = pd.read_csv(r\"C:\\CaseStudy\\purchases.csv\") "
   ]
  },
  {
   "cell_type": "code",
   "execution_count": 864,
   "metadata": {},
   "outputs": [
    {
     "data": {
      "text/html": [
       "<div>\n",
       "<style scoped>\n",
       "    .dataframe tbody tr th:only-of-type {\n",
       "        vertical-align: middle;\n",
       "    }\n",
       "\n",
       "    .dataframe tbody tr th {\n",
       "        vertical-align: top;\n",
       "    }\n",
       "\n",
       "    .dataframe thead th {\n",
       "        text-align: right;\n",
       "    }\n",
       "</style>\n",
       "<table border=\"1\" class=\"dataframe\">\n",
       "  <thead>\n",
       "    <tr style=\"text-align: right;\">\n",
       "      <th></th>\n",
       "      <th>customer_id</th>\n",
       "      <th>bought_date</th>\n",
       "      <th>product</th>\n",
       "      <th>retail_price</th>\n",
       "      <th>discount</th>\n",
       "    </tr>\n",
       "  </thead>\n",
       "  <tbody>\n",
       "    <tr>\n",
       "      <th>0</th>\n",
       "      <td>1</td>\n",
       "      <td>2016-12-01</td>\n",
       "      <td>Saturn</td>\n",
       "      <td>50000</td>\n",
       "      <td>1900.0</td>\n",
       "    </tr>\n",
       "    <tr>\n",
       "      <th>1</th>\n",
       "      <td>4</td>\n",
       "      <td>2016-12-01</td>\n",
       "      <td>Saturn</td>\n",
       "      <td>50000</td>\n",
       "      <td>4500.0</td>\n",
       "    </tr>\n",
       "    <tr>\n",
       "      <th>2</th>\n",
       "      <td>5</td>\n",
       "      <td>2016-12-01</td>\n",
       "      <td>Jupiter</td>\n",
       "      <td>80000</td>\n",
       "      <td>1300.0</td>\n",
       "    </tr>\n",
       "    <tr>\n",
       "      <th>3</th>\n",
       "      <td>6</td>\n",
       "      <td>2016-12-01</td>\n",
       "      <td>Pluto</td>\n",
       "      <td>40000</td>\n",
       "      <td>3800.0</td>\n",
       "    </tr>\n",
       "    <tr>\n",
       "      <th>4</th>\n",
       "      <td>8</td>\n",
       "      <td>2016-12-01</td>\n",
       "      <td>Pluto</td>\n",
       "      <td>40000</td>\n",
       "      <td>200.0</td>\n",
       "    </tr>\n",
       "  </tbody>\n",
       "</table>\n",
       "</div>"
      ],
      "text/plain": [
       "   customer_id bought_date  product  retail_price  discount\n",
       "0            1  2016-12-01   Saturn         50000    1900.0\n",
       "1            4  2016-12-01   Saturn         50000    4500.0\n",
       "2            5  2016-12-01  Jupiter         80000    1300.0\n",
       "3            6  2016-12-01    Pluto         40000    3800.0\n",
       "4            8  2016-12-01    Pluto         40000     200.0"
      ]
     },
     "execution_count": 864,
     "metadata": {},
     "output_type": "execute_result"
    }
   ],
   "source": [
    "DF_Purchases.head()"
   ]
  },
  {
   "cell_type": "markdown",
   "metadata": {},
   "source": [
    "#### Lets run a general info on the Dataframe"
   ]
  },
  {
   "cell_type": "code",
   "execution_count": 865,
   "metadata": {},
   "outputs": [
    {
     "name": "stdout",
     "output_type": "stream",
     "text": [
      "<class 'pandas.core.frame.DataFrame'>\n",
      "RangeIndex: 12162 entries, 0 to 12161\n",
      "Data columns (total 5 columns):\n",
      "customer_id     12162 non-null int64\n",
      "bought_date     12162 non-null object\n",
      "product         12162 non-null object\n",
      "retail_price    12162 non-null int64\n",
      "discount        12162 non-null float64\n",
      "dtypes: float64(1), int64(2), object(2)\n",
      "memory usage: 475.2+ KB\n"
     ]
    }
   ],
   "source": [
    "DF_Purchases.info()"
   ]
  },
  {
   "cell_type": "code",
   "execution_count": 866,
   "metadata": {},
   "outputs": [
    {
     "data": {
      "text/html": [
       "<div>\n",
       "<style scoped>\n",
       "    .dataframe tbody tr th:only-of-type {\n",
       "        vertical-align: middle;\n",
       "    }\n",
       "\n",
       "    .dataframe tbody tr th {\n",
       "        vertical-align: top;\n",
       "    }\n",
       "\n",
       "    .dataframe thead th {\n",
       "        text-align: right;\n",
       "    }\n",
       "</style>\n",
       "<table border=\"1\" class=\"dataframe\">\n",
       "  <thead>\n",
       "    <tr style=\"text-align: right;\">\n",
       "      <th></th>\n",
       "      <th>customer_id</th>\n",
       "      <th>retail_price</th>\n",
       "      <th>discount</th>\n",
       "    </tr>\n",
       "  </thead>\n",
       "  <tbody>\n",
       "    <tr>\n",
       "      <th>count</th>\n",
       "      <td>12162.000000</td>\n",
       "      <td>12162.000000</td>\n",
       "      <td>12162.000000</td>\n",
       "    </tr>\n",
       "    <tr>\n",
       "      <th>mean</th>\n",
       "      <td>21118.978540</td>\n",
       "      <td>62735.569808</td>\n",
       "      <td>4893.504358</td>\n",
       "    </tr>\n",
       "    <tr>\n",
       "      <th>std</th>\n",
       "      <td>12100.696319</td>\n",
       "      <td>18590.421780</td>\n",
       "      <td>3831.388792</td>\n",
       "    </tr>\n",
       "    <tr>\n",
       "      <th>min</th>\n",
       "      <td>1.000000</td>\n",
       "      <td>40000.000000</td>\n",
       "      <td>0.000000</td>\n",
       "    </tr>\n",
       "    <tr>\n",
       "      <th>25%</th>\n",
       "      <td>10646.250000</td>\n",
       "      <td>50000.000000</td>\n",
       "      <td>2000.000000</td>\n",
       "    </tr>\n",
       "    <tr>\n",
       "      <th>50%</th>\n",
       "      <td>21586.000000</td>\n",
       "      <td>50000.000000</td>\n",
       "      <td>3900.000000</td>\n",
       "    </tr>\n",
       "    <tr>\n",
       "      <th>75%</th>\n",
       "      <td>31340.250000</td>\n",
       "      <td>80000.000000</td>\n",
       "      <td>6900.000000</td>\n",
       "    </tr>\n",
       "    <tr>\n",
       "      <th>max</th>\n",
       "      <td>42010.000000</td>\n",
       "      <td>90000.000000</td>\n",
       "      <td>18000.000000</td>\n",
       "    </tr>\n",
       "  </tbody>\n",
       "</table>\n",
       "</div>"
      ],
      "text/plain": [
       "        customer_id  retail_price      discount\n",
       "count  12162.000000  12162.000000  12162.000000\n",
       "mean   21118.978540  62735.569808   4893.504358\n",
       "std    12100.696319  18590.421780   3831.388792\n",
       "min        1.000000  40000.000000      0.000000\n",
       "25%    10646.250000  50000.000000   2000.000000\n",
       "50%    21586.000000  50000.000000   3900.000000\n",
       "75%    31340.250000  80000.000000   6900.000000\n",
       "max    42010.000000  90000.000000  18000.000000"
      ]
     },
     "execution_count": 866,
     "metadata": {},
     "output_type": "execute_result"
    }
   ],
   "source": [
    "DF_Purchases.describe()"
   ]
  },
  {
   "cell_type": "markdown",
   "metadata": {},
   "source": [
    "The data set looks clean without any missing column values or extreme outliers. Before we furthere explore the data lets add cost column to the purchase data and calculate the profit on the sale\n",
    "\n",
    "It is assued that the cost of each product remained the same from 2016"
   ]
  },
  {
   "cell_type": "code",
   "execution_count": 867,
   "metadata": {},
   "outputs": [],
   "source": [
    "DF_Purchases_Clean =  DF_Purchases\n",
    "DF_Purchases_Clean[\"cost\"]=np.nan\n",
    "DF_Purchases_Clean.loc[DF_Purchases_Clean['product'] == \"Pluto\", ['cost']] = 20000\n",
    "DF_Purchases_Clean.loc[DF_Purchases_Clean['product'] == \"Saturn\", ['cost']] = 25000\n",
    "DF_Purchases_Clean.loc[DF_Purchases['product'] == \"Jupiter\", ['cost']] = 40000\n",
    "DF_Purchases_Clean[\"sale\"] =DF_Purchases_Clean[\"retail_price\"]-DF_Purchases_Clean[\"discount\"]\n",
    "DF_Purchases_Clean[\"profit\"] =DF_Purchases_Clean[\"sale\"]-DF_Purchases_Clean[\"cost\"]"
   ]
  },
  {
   "cell_type": "markdown",
   "metadata": {},
   "source": [
    "To help us analyze the data better, we now add a sale year and sale month column to the data"
   ]
  },
  {
   "cell_type": "code",
   "execution_count": 868,
   "metadata": {},
   "outputs": [],
   "source": [
    "DF_Purchases_Clean[\"sale_year\"] = pd.to_datetime(DF_Purchases_Clean.bought_date).dt.year\n",
    "DF_Purchases_Clean[\"sale_month\"] = pd.to_datetime(DF_Purchases_Clean.bought_date).dt.month\n",
    "DF_Purchases_Clean[\"year_month\"]= pd.to_datetime(DF_Purchases_Clean.bought_date).dt.strftime('%Y%m')"
   ]
  },
  {
   "cell_type": "markdown",
   "metadata": {},
   "source": [
    "__Finally, we have the full purchase data set ready, or not yet...?__"
   ]
  },
  {
   "cell_type": "code",
   "execution_count": 869,
   "metadata": {},
   "outputs": [
    {
     "data": {
      "text/html": [
       "<div>\n",
       "<style scoped>\n",
       "    .dataframe tbody tr th:only-of-type {\n",
       "        vertical-align: middle;\n",
       "    }\n",
       "\n",
       "    .dataframe tbody tr th {\n",
       "        vertical-align: top;\n",
       "    }\n",
       "\n",
       "    .dataframe thead th {\n",
       "        text-align: right;\n",
       "    }\n",
       "</style>\n",
       "<table border=\"1\" class=\"dataframe\">\n",
       "  <thead>\n",
       "    <tr style=\"text-align: right;\">\n",
       "      <th></th>\n",
       "      <th>customer_id</th>\n",
       "      <th>bought_date</th>\n",
       "      <th>product</th>\n",
       "      <th>retail_price</th>\n",
       "      <th>discount</th>\n",
       "      <th>cost</th>\n",
       "      <th>sale</th>\n",
       "      <th>profit</th>\n",
       "      <th>sale_year</th>\n",
       "      <th>sale_month</th>\n",
       "      <th>year_month</th>\n",
       "    </tr>\n",
       "  </thead>\n",
       "  <tbody>\n",
       "    <tr>\n",
       "      <th>0</th>\n",
       "      <td>1</td>\n",
       "      <td>2016-12-01</td>\n",
       "      <td>Saturn</td>\n",
       "      <td>50000</td>\n",
       "      <td>1900.0</td>\n",
       "      <td>25000.0</td>\n",
       "      <td>48100.0</td>\n",
       "      <td>23100.0</td>\n",
       "      <td>2016</td>\n",
       "      <td>12</td>\n",
       "      <td>201612</td>\n",
       "    </tr>\n",
       "    <tr>\n",
       "      <th>1</th>\n",
       "      <td>4</td>\n",
       "      <td>2016-12-01</td>\n",
       "      <td>Saturn</td>\n",
       "      <td>50000</td>\n",
       "      <td>4500.0</td>\n",
       "      <td>25000.0</td>\n",
       "      <td>45500.0</td>\n",
       "      <td>20500.0</td>\n",
       "      <td>2016</td>\n",
       "      <td>12</td>\n",
       "      <td>201612</td>\n",
       "    </tr>\n",
       "    <tr>\n",
       "      <th>2</th>\n",
       "      <td>5</td>\n",
       "      <td>2016-12-01</td>\n",
       "      <td>Jupiter</td>\n",
       "      <td>80000</td>\n",
       "      <td>1300.0</td>\n",
       "      <td>40000.0</td>\n",
       "      <td>78700.0</td>\n",
       "      <td>38700.0</td>\n",
       "      <td>2016</td>\n",
       "      <td>12</td>\n",
       "      <td>201612</td>\n",
       "    </tr>\n",
       "    <tr>\n",
       "      <th>3</th>\n",
       "      <td>6</td>\n",
       "      <td>2016-12-01</td>\n",
       "      <td>Pluto</td>\n",
       "      <td>40000</td>\n",
       "      <td>3800.0</td>\n",
       "      <td>20000.0</td>\n",
       "      <td>36200.0</td>\n",
       "      <td>16200.0</td>\n",
       "      <td>2016</td>\n",
       "      <td>12</td>\n",
       "      <td>201612</td>\n",
       "    </tr>\n",
       "    <tr>\n",
       "      <th>4</th>\n",
       "      <td>8</td>\n",
       "      <td>2016-12-01</td>\n",
       "      <td>Pluto</td>\n",
       "      <td>40000</td>\n",
       "      <td>200.0</td>\n",
       "      <td>20000.0</td>\n",
       "      <td>39800.0</td>\n",
       "      <td>19800.0</td>\n",
       "      <td>2016</td>\n",
       "      <td>12</td>\n",
       "      <td>201612</td>\n",
       "    </tr>\n",
       "  </tbody>\n",
       "</table>\n",
       "</div>"
      ],
      "text/plain": [
       "   customer_id bought_date  product  retail_price  discount     cost     sale  \\\n",
       "0            1  2016-12-01   Saturn         50000    1900.0  25000.0  48100.0   \n",
       "1            4  2016-12-01   Saturn         50000    4500.0  25000.0  45500.0   \n",
       "2            5  2016-12-01  Jupiter         80000    1300.0  40000.0  78700.0   \n",
       "3            6  2016-12-01    Pluto         40000    3800.0  20000.0  36200.0   \n",
       "4            8  2016-12-01    Pluto         40000     200.0  20000.0  39800.0   \n",
       "\n",
       "    profit  sale_year  sale_month year_month  \n",
       "0  23100.0       2016          12     201612  \n",
       "1  20500.0       2016          12     201612  \n",
       "2  38700.0       2016          12     201612  \n",
       "3  16200.0       2016          12     201612  \n",
       "4  19800.0       2016          12     201612  "
      ]
     },
     "execution_count": 869,
     "metadata": {},
     "output_type": "execute_result"
    }
   ],
   "source": [
    "DF_Purchases_Clean.head()"
   ]
  },
  {
   "cell_type": "markdown",
   "metadata": {},
   "source": [
    "_A quick look at the dat reveals that, we have data for sales from 2016 December to 2019 November.\n",
    "In order to have full 12 months perriod comaprison over the years, we will remove Decemeber 2016 data and derive decemeber 2019 sales and profit  by applying based on YTD Nov ratio between 2018 and 2019 to Dec 18 figures_"
   ]
  },
  {
   "cell_type": "code",
   "execution_count": 870,
   "metadata": {},
   "outputs": [],
   "source": [
    "DF_Purchases_Clean=DF_Purchases_Clean[DF_Purchases_Clean.sale_year>2016]"
   ]
  },
  {
   "cell_type": "code",
   "execution_count": 871,
   "metadata": {},
   "outputs": [],
   "source": [
    "#calculate 2019 YTD Nov Sales and Profit\n",
    "df_mtd_Nov19=DF_Purchases_Clean[(DF_Purchases_Clean.sale_year==2019)&(DF_Purchases_Clean.sale_month<=11)].groupby('product')['sale','profit'].sum()"
   ]
  },
  {
   "cell_type": "code",
   "execution_count": 872,
   "metadata": {},
   "outputs": [],
   "source": [
    "#calculats 2018 YTD Nov Sales and Profit\n",
    "df_mtd_Nov18=DF_Purchases_Clean[(DF_Purchases_Clean.sale_year==2018)&(DF_Purchases_Clean.sale_month<=11)].groupby('product')['sale','profit'].sum()"
   ]
  },
  {
   "cell_type": "code",
   "execution_count": null,
   "metadata": {},
   "outputs": [],
   "source": []
  },
  {
   "cell_type": "code",
   "execution_count": 873,
   "metadata": {},
   "outputs": [
    {
     "data": {
      "text/html": [
       "<div>\n",
       "<style scoped>\n",
       "    .dataframe tbody tr th:only-of-type {\n",
       "        vertical-align: middle;\n",
       "    }\n",
       "\n",
       "    .dataframe tbody tr th {\n",
       "        vertical-align: top;\n",
       "    }\n",
       "\n",
       "    .dataframe thead th {\n",
       "        text-align: right;\n",
       "    }\n",
       "</style>\n",
       "<table border=\"1\" class=\"dataframe\">\n",
       "  <thead>\n",
       "    <tr style=\"text-align: right;\">\n",
       "      <th></th>\n",
       "      <th>sale_2019</th>\n",
       "      <th>profit_2019</th>\n",
       "      <th>sale_2018</th>\n",
       "      <th>profit_2018</th>\n",
       "      <th>YOY_Sales_Ratio</th>\n",
       "      <th>YOY_Profit_Ratio</th>\n",
       "    </tr>\n",
       "    <tr>\n",
       "      <th>product</th>\n",
       "      <th></th>\n",
       "      <th></th>\n",
       "      <th></th>\n",
       "      <th></th>\n",
       "      <th></th>\n",
       "      <th></th>\n",
       "    </tr>\n",
       "  </thead>\n",
       "  <tbody>\n",
       "    <tr>\n",
       "      <th>Jupiter</th>\n",
       "      <td>92248300.0</td>\n",
       "      <td>46768300.0</td>\n",
       "      <td>120252100.0</td>\n",
       "      <td>53292100.0</td>\n",
       "      <td>0.767124</td>\n",
       "      <td>0.877584</td>\n",
       "    </tr>\n",
       "    <tr>\n",
       "      <th>Pluto</th>\n",
       "      <td>18053900.0</td>\n",
       "      <td>8013900.0</td>\n",
       "      <td>29032600.0</td>\n",
       "      <td>12892600.0</td>\n",
       "      <td>0.621849</td>\n",
       "      <td>0.621589</td>\n",
       "    </tr>\n",
       "    <tr>\n",
       "      <th>Saturn</th>\n",
       "      <td>35031100.0</td>\n",
       "      <td>15481100.0</td>\n",
       "      <td>60492600.0</td>\n",
       "      <td>26892600.0</td>\n",
       "      <td>0.579097</td>\n",
       "      <td>0.575664</td>\n",
       "    </tr>\n",
       "  </tbody>\n",
       "</table>\n",
       "</div>"
      ],
      "text/plain": [
       "          sale_2019  profit_2019    sale_2018  profit_2018  YOY_Sales_Ratio  \\\n",
       "product                                                                       \n",
       "Jupiter  92248300.0   46768300.0  120252100.0   53292100.0         0.767124   \n",
       "Pluto    18053900.0    8013900.0   29032600.0   12892600.0         0.621849   \n",
       "Saturn   35031100.0   15481100.0   60492600.0   26892600.0         0.579097   \n",
       "\n",
       "         YOY_Profit_Ratio  \n",
       "product                    \n",
       "Jupiter          0.877584  \n",
       "Pluto            0.621589  \n",
       "Saturn           0.575664  "
      ]
     },
     "execution_count": 873,
     "metadata": {},
     "output_type": "execute_result"
    }
   ],
   "source": [
    "# calculate the Year over Year YTD Nov ratio between 2018 and 2019\n",
    "\n",
    "MTD_Nov_YOY = df_mtd_Nov19.join (df_mtd_Nov18,lsuffix='_2019', rsuffix='_2018')\n",
    "MTD_Nov_YOY[\"YOY_Sales_Ratio\"]=MTD_Nov_YOY[\"sale_2019\"]/MTD_Nov_YOY[\"sale_2018\"]\n",
    "MTD_Nov_YOY[\"YOY_Profit_Ratio\"]=MTD_Nov_YOY[\"profit_2019\"]/MTD_Nov_YOY[\"profit_2018\"]\n",
    "MTD_Nov_YOY"
   ]
  },
  {
   "cell_type": "code",
   "execution_count": 874,
   "metadata": {},
   "outputs": [
    {
     "data": {
      "text/html": [
       "<div>\n",
       "<style scoped>\n",
       "    .dataframe tbody tr th:only-of-type {\n",
       "        vertical-align: middle;\n",
       "    }\n",
       "\n",
       "    .dataframe tbody tr th {\n",
       "        vertical-align: top;\n",
       "    }\n",
       "\n",
       "    .dataframe thead th {\n",
       "        text-align: right;\n",
       "    }\n",
       "</style>\n",
       "<table border=\"1\" class=\"dataframe\">\n",
       "  <thead>\n",
       "    <tr style=\"text-align: right;\">\n",
       "      <th></th>\n",
       "      <th>sale</th>\n",
       "      <th>profit</th>\n",
       "    </tr>\n",
       "    <tr>\n",
       "      <th>product</th>\n",
       "      <th></th>\n",
       "      <th></th>\n",
       "    </tr>\n",
       "  </thead>\n",
       "  <tbody>\n",
       "    <tr>\n",
       "      <th>Jupiter</th>\n",
       "      <td>14296400.0</td>\n",
       "      <td>6336400.0</td>\n",
       "    </tr>\n",
       "    <tr>\n",
       "      <th>Pluto</th>\n",
       "      <td>1294000.0</td>\n",
       "      <td>574000.0</td>\n",
       "    </tr>\n",
       "    <tr>\n",
       "      <th>Saturn</th>\n",
       "      <td>8559400.0</td>\n",
       "      <td>3784400.0</td>\n",
       "    </tr>\n",
       "  </tbody>\n",
       "</table>\n",
       "</div>"
      ],
      "text/plain": [
       "               sale     profit\n",
       "product                       \n",
       "Jupiter  14296400.0  6336400.0\n",
       "Pluto     1294000.0   574000.0\n",
       "Saturn    8559400.0  3784400.0"
      ]
     },
     "execution_count": 874,
     "metadata": {},
     "output_type": "execute_result"
    }
   ],
   "source": [
    "# calculate December 2018 figure\n",
    "\n",
    "df_Dec_2018=DF_Purchases_Clean[(DF_Purchases_Clean.sale_year==2018)&(DF_Purchases_Clean.sale_month==12)].groupby('product')['sale','profit'].sum()\n",
    "df_Dec_2018"
   ]
  },
  {
   "cell_type": "code",
   "execution_count": 875,
   "metadata": {},
   "outputs": [],
   "source": [
    "df_Dec_2018=df_Dec_2018.join(MTD_Nov_YOY[['YOY_Sales_Ratio','YOY_Profit_Ratio']])"
   ]
  },
  {
   "cell_type": "code",
   "execution_count": 876,
   "metadata": {},
   "outputs": [
    {
     "data": {
      "text/html": [
       "<div>\n",
       "<style scoped>\n",
       "    .dataframe tbody tr th:only-of-type {\n",
       "        vertical-align: middle;\n",
       "    }\n",
       "\n",
       "    .dataframe tbody tr th {\n",
       "        vertical-align: top;\n",
       "    }\n",
       "\n",
       "    .dataframe thead th {\n",
       "        text-align: right;\n",
       "    }\n",
       "</style>\n",
       "<table border=\"1\" class=\"dataframe\">\n",
       "  <thead>\n",
       "    <tr style=\"text-align: right;\">\n",
       "      <th></th>\n",
       "      <th>product</th>\n",
       "      <th>sale</th>\n",
       "      <th>profit</th>\n",
       "    </tr>\n",
       "  </thead>\n",
       "  <tbody>\n",
       "    <tr>\n",
       "      <th>0</th>\n",
       "      <td>Jupiter</td>\n",
       "      <td>10967115.0</td>\n",
       "      <td>5560724.0</td>\n",
       "    </tr>\n",
       "    <tr>\n",
       "      <th>1</th>\n",
       "      <td>Pluto</td>\n",
       "      <td>804673.0</td>\n",
       "      <td>356792.0</td>\n",
       "    </tr>\n",
       "    <tr>\n",
       "      <th>2</th>\n",
       "      <td>Saturn</td>\n",
       "      <td>4956725.0</td>\n",
       "      <td>2178543.0</td>\n",
       "    </tr>\n",
       "  </tbody>\n",
       "</table>\n",
       "</div>"
      ],
      "text/plain": [
       "   product        sale     profit\n",
       "0  Jupiter  10967115.0  5560724.0\n",
       "1    Pluto    804673.0   356792.0\n",
       "2   Saturn   4956725.0  2178543.0"
      ]
     },
     "execution_count": 876,
     "metadata": {},
     "output_type": "execute_result"
    }
   ],
   "source": [
    "#Apply the ratio to find out the Decmber 2019 figures\n",
    "df_Dec_2018[\"sale\"]=round(df_Dec_2018[\"sale\"]*df_Dec_2018[\"YOY_Sales_Ratio\"],0)\n",
    "df_Dec_2018[\"profit\"]=round(df_Dec_2018[\"profit\"]*df_Dec_2018[\"YOY_Profit_Ratio\"],0)\n",
    "df_Dec_2019 =df_Dec_2018[[\"sale\",\"profit\"]].reset_index()\n",
    "df_Dec_2019"
   ]
  },
  {
   "cell_type": "code",
   "execution_count": 877,
   "metadata": {},
   "outputs": [
    {
     "data": {
      "text/html": [
       "<div>\n",
       "<style scoped>\n",
       "    .dataframe tbody tr th:only-of-type {\n",
       "        vertical-align: middle;\n",
       "    }\n",
       "\n",
       "    .dataframe tbody tr th {\n",
       "        vertical-align: top;\n",
       "    }\n",
       "\n",
       "    .dataframe thead th {\n",
       "        text-align: right;\n",
       "    }\n",
       "</style>\n",
       "<table border=\"1\" class=\"dataframe\">\n",
       "  <thead>\n",
       "    <tr style=\"text-align: right;\">\n",
       "      <th></th>\n",
       "      <th>product</th>\n",
       "      <th>sale</th>\n",
       "      <th>profit</th>\n",
       "      <th>sale_year</th>\n",
       "      <th>sale_month</th>\n",
       "    </tr>\n",
       "  </thead>\n",
       "  <tbody>\n",
       "    <tr>\n",
       "      <th>0</th>\n",
       "      <td>Jupiter</td>\n",
       "      <td>10967115.0</td>\n",
       "      <td>5560724.0</td>\n",
       "      <td>2019</td>\n",
       "      <td>12</td>\n",
       "    </tr>\n",
       "    <tr>\n",
       "      <th>1</th>\n",
       "      <td>Pluto</td>\n",
       "      <td>804673.0</td>\n",
       "      <td>356792.0</td>\n",
       "      <td>2019</td>\n",
       "      <td>12</td>\n",
       "    </tr>\n",
       "    <tr>\n",
       "      <th>2</th>\n",
       "      <td>Saturn</td>\n",
       "      <td>4956725.0</td>\n",
       "      <td>2178543.0</td>\n",
       "      <td>2019</td>\n",
       "      <td>12</td>\n",
       "    </tr>\n",
       "  </tbody>\n",
       "</table>\n",
       "</div>"
      ],
      "text/plain": [
       "   product        sale     profit  sale_year  sale_month\n",
       "0  Jupiter  10967115.0  5560724.0       2019          12\n",
       "1    Pluto    804673.0   356792.0       2019          12\n",
       "2   Saturn   4956725.0  2178543.0       2019          12"
      ]
     },
     "execution_count": 877,
     "metadata": {},
     "output_type": "execute_result"
    }
   ],
   "source": [
    "#Add sale year and month coluns in Dec 2019 aggregate for later calaulations\n",
    "\n",
    "df_Dec_2019[\"sale_year\"]=2019\n",
    "df_Dec_2019[\"sale_month\"]=12\n",
    "df_Dec_2019"
   ]
  },
  {
   "cell_type": "code",
   "execution_count": 878,
   "metadata": {},
   "outputs": [
    {
     "data": {
      "text/html": [
       "<div>\n",
       "<style scoped>\n",
       "    .dataframe tbody tr th:only-of-type {\n",
       "        vertical-align: middle;\n",
       "    }\n",
       "\n",
       "    .dataframe tbody tr th {\n",
       "        vertical-align: top;\n",
       "    }\n",
       "\n",
       "    .dataframe thead th {\n",
       "        text-align: right;\n",
       "    }\n",
       "</style>\n",
       "<table border=\"1\" class=\"dataframe\">\n",
       "  <thead>\n",
       "    <tr style=\"text-align: right;\">\n",
       "      <th></th>\n",
       "      <th>product</th>\n",
       "      <th>sale_year</th>\n",
       "      <th>sale_month</th>\n",
       "      <th>sale</th>\n",
       "      <th>profit</th>\n",
       "    </tr>\n",
       "  </thead>\n",
       "  <tbody>\n",
       "    <tr>\n",
       "      <th>0</th>\n",
       "      <td>Jupiter</td>\n",
       "      <td>2017</td>\n",
       "      <td>1</td>\n",
       "      <td>16369300.0</td>\n",
       "      <td>7769300.0</td>\n",
       "    </tr>\n",
       "    <tr>\n",
       "      <th>1</th>\n",
       "      <td>Jupiter</td>\n",
       "      <td>2017</td>\n",
       "      <td>2</td>\n",
       "      <td>8232900.0</td>\n",
       "      <td>3912900.0</td>\n",
       "    </tr>\n",
       "    <tr>\n",
       "      <th>2</th>\n",
       "      <td>Jupiter</td>\n",
       "      <td>2017</td>\n",
       "      <td>3</td>\n",
       "      <td>19394800.0</td>\n",
       "      <td>9194800.0</td>\n",
       "    </tr>\n",
       "    <tr>\n",
       "      <th>3</th>\n",
       "      <td>Jupiter</td>\n",
       "      <td>2017</td>\n",
       "      <td>4</td>\n",
       "      <td>13683000.0</td>\n",
       "      <td>6483000.0</td>\n",
       "    </tr>\n",
       "    <tr>\n",
       "      <th>4</th>\n",
       "      <td>Jupiter</td>\n",
       "      <td>2017</td>\n",
       "      <td>5</td>\n",
       "      <td>17731400.0</td>\n",
       "      <td>8411400.0</td>\n",
       "    </tr>\n",
       "  </tbody>\n",
       "</table>\n",
       "</div>"
      ],
      "text/plain": [
       "   product  sale_year  sale_month        sale     profit\n",
       "0  Jupiter       2017           1  16369300.0  7769300.0\n",
       "1  Jupiter       2017           2   8232900.0  3912900.0\n",
       "2  Jupiter       2017           3  19394800.0  9194800.0\n",
       "3  Jupiter       2017           4  13683000.0  6483000.0\n",
       "4  Jupiter       2017           5  17731400.0  8411400.0"
      ]
     },
     "execution_count": 878,
     "metadata": {},
     "output_type": "execute_result"
    }
   ],
   "source": [
    "df_purchase_partial=DF_Purchases_Clean.groupby(['product','sale_year','sale_month'])['sale','profit'].sum().reset_index()\n",
    "df_purchase_partial.head()"
   ]
  },
  {
   "cell_type": "code",
   "execution_count": 879,
   "metadata": {},
   "outputs": [],
   "source": [
    "#Append the Dec 2020 data to the initial data\n",
    "\n",
    "df_purchase_full_agg=pd.concat([df_purchase_partial,\n",
    "          df_Dec_2019[['product','sale_year','sale_month','sale','profit']]],ignore_index=True)"
   ]
  },
  {
   "cell_type": "markdown",
   "metadata": {},
   "source": [
    "#### Now we are ready with full 36 months data from Jan 2017 to Dec 2019 to carry out our analysis. "
   ]
  },
  {
   "cell_type": "code",
   "execution_count": 880,
   "metadata": {},
   "outputs": [
    {
     "data": {
      "text/html": [
       "<div>\n",
       "<style scoped>\n",
       "    .dataframe tbody tr th:only-of-type {\n",
       "        vertical-align: middle;\n",
       "    }\n",
       "\n",
       "    .dataframe tbody tr th {\n",
       "        vertical-align: top;\n",
       "    }\n",
       "\n",
       "    .dataframe thead th {\n",
       "        text-align: right;\n",
       "    }\n",
       "</style>\n",
       "<table border=\"1\" class=\"dataframe\">\n",
       "  <thead>\n",
       "    <tr style=\"text-align: right;\">\n",
       "      <th></th>\n",
       "      <th>sale</th>\n",
       "      <th>profit</th>\n",
       "    </tr>\n",
       "    <tr>\n",
       "      <th>sale_year</th>\n",
       "      <th></th>\n",
       "      <th></th>\n",
       "    </tr>\n",
       "  </thead>\n",
       "  <tbody>\n",
       "    <tr>\n",
       "      <th>2017</th>\n",
       "      <td>289040600.0</td>\n",
       "      <td>136985600.0</td>\n",
       "    </tr>\n",
       "    <tr>\n",
       "      <th>2018</th>\n",
       "      <td>233927100.0</td>\n",
       "      <td>103772100.0</td>\n",
       "    </tr>\n",
       "    <tr>\n",
       "      <th>2019</th>\n",
       "      <td>162061813.0</td>\n",
       "      <td>78359359.0</td>\n",
       "    </tr>\n",
       "  </tbody>\n",
       "</table>\n",
       "</div>"
      ],
      "text/plain": [
       "                  sale       profit\n",
       "sale_year                          \n",
       "2017       289040600.0  136985600.0\n",
       "2018       233927100.0  103772100.0\n",
       "2019       162061813.0   78359359.0"
      ]
     },
     "execution_count": 880,
     "metadata": {},
     "output_type": "execute_result"
    }
   ],
   "source": [
    "df_purchase_full_agg.groupby('sale_year')['sale','profit'].sum()"
   ]
  },
  {
   "cell_type": "markdown",
   "metadata": {},
   "source": [
    "#### Lets first address \"the elepahnt in the room\", the continured drop of Sale and Profit over the last 3 years"
   ]
  },
  {
   "cell_type": "code",
   "execution_count": 881,
   "metadata": {},
   "outputs": [
    {
     "data": {
      "text/plain": [
       "<matplotlib.axes._subplots.AxesSubplot at 0x1f769a29748>"
      ]
     },
     "execution_count": 881,
     "metadata": {},
     "output_type": "execute_result"
    },
    {
     "data": {
      "image/png": "[encoded data removed]",
      "text/plain": [
       "<Figure size 432x288 with 1 Axes>"
      ]
     },
     "metadata": {
      "needs_background": "light"
     },
     "output_type": "display_data"
    }
   ],
   "source": [
    "df_purchase_full_agg.groupby('sale_year')['sale','profit'].sum().plot(kind='bar')"
   ]
  },
  {
   "cell_type": "code",
   "execution_count": 882,
   "metadata": {},
   "outputs": [
    {
     "data": {
      "text/html": [
       "<div>\n",
       "<style scoped>\n",
       "    .dataframe tbody tr th:only-of-type {\n",
       "        vertical-align: middle;\n",
       "    }\n",
       "\n",
       "    .dataframe tbody tr th {\n",
       "        vertical-align: top;\n",
       "    }\n",
       "\n",
       "    .dataframe thead th {\n",
       "        text-align: right;\n",
       "    }\n",
       "</style>\n",
       "<table border=\"1\" class=\"dataframe\">\n",
       "  <thead>\n",
       "    <tr style=\"text-align: right;\">\n",
       "      <th></th>\n",
       "      <th>sale_year</th>\n",
       "      <th>sale</th>\n",
       "    </tr>\n",
       "  </thead>\n",
       "  <tbody>\n",
       "    <tr>\n",
       "      <th>0</th>\n",
       "      <td>2017</td>\n",
       "      <td>289040600.0</td>\n",
       "    </tr>\n",
       "    <tr>\n",
       "      <th>1</th>\n",
       "      <td>2018</td>\n",
       "      <td>233927100.0</td>\n",
       "    </tr>\n",
       "    <tr>\n",
       "      <th>2</th>\n",
       "      <td>2019</td>\n",
       "      <td>162061813.0</td>\n",
       "    </tr>\n",
       "  </tbody>\n",
       "</table>\n",
       "</div>"
      ],
      "text/plain": [
       "   sale_year         sale\n",
       "0       2017  289040600.0\n",
       "1       2018  233927100.0\n",
       "2       2019  162061813.0"
      ]
     },
     "execution_count": 882,
     "metadata": {},
     "output_type": "execute_result"
    }
   ],
   "source": [
    "df_purchase_full_agg.groupby(['sale_year'])['sale'].sum().reset_index()"
   ]
  },
  {
   "cell_type": "markdown",
   "metadata": {},
   "source": [
    "__As seen, Sale and consequently Profit has seen a continued drop from 2017 to 2019__\n",
    "\n",
    "__There was a drop in sale of 24% from 2017 to and a further drop of 43% from 2018 to 2019__"
   ]
  },
  {
   "cell_type": "markdown",
   "metadata": {},
   "source": [
    "Lets now look at how what was the impact of the drop on the sale of the three models"
   ]
  },
  {
   "cell_type": "code",
   "execution_count": 883,
   "metadata": {},
   "outputs": [
    {
     "data": {
      "text/html": [
       "<div>\n",
       "<style scoped>\n",
       "    .dataframe tbody tr th:only-of-type {\n",
       "        vertical-align: middle;\n",
       "    }\n",
       "\n",
       "    .dataframe tbody tr th {\n",
       "        vertical-align: top;\n",
       "    }\n",
       "\n",
       "    .dataframe thead th {\n",
       "        text-align: right;\n",
       "    }\n",
       "</style>\n",
       "<table border=\"1\" class=\"dataframe\">\n",
       "  <thead>\n",
       "    <tr style=\"text-align: right;\">\n",
       "      <th></th>\n",
       "      <th>product</th>\n",
       "      <th>2017</th>\n",
       "      <th>2018</th>\n",
       "      <th>2019</th>\n",
       "      <th>Var_2018_2017</th>\n",
       "      <th>Var_2019_2018</th>\n",
       "    </tr>\n",
       "  </thead>\n",
       "  <tbody>\n",
       "    <tr>\n",
       "      <th>0</th>\n",
       "      <td>Jupiter</td>\n",
       "      <td>184055100.0</td>\n",
       "      <td>134548500.0</td>\n",
       "      <td>103215415.0</td>\n",
       "      <td>-26.90</td>\n",
       "      <td>-23.29</td>\n",
       "    </tr>\n",
       "    <tr>\n",
       "      <th>1</th>\n",
       "      <td>Pluto</td>\n",
       "      <td>42072200.0</td>\n",
       "      <td>30326600.0</td>\n",
       "      <td>18858573.0</td>\n",
       "      <td>-27.92</td>\n",
       "      <td>-37.82</td>\n",
       "    </tr>\n",
       "    <tr>\n",
       "      <th>2</th>\n",
       "      <td>Saturn</td>\n",
       "      <td>62913300.0</td>\n",
       "      <td>69052000.0</td>\n",
       "      <td>39987825.0</td>\n",
       "      <td>9.76</td>\n",
       "      <td>-42.09</td>\n",
       "    </tr>\n",
       "  </tbody>\n",
       "</table>\n",
       "</div>"
      ],
      "text/plain": [
       "   product         2017         2018         2019  Var_2018_2017  \\\n",
       "0  Jupiter  184055100.0  134548500.0  103215415.0         -26.90   \n",
       "1    Pluto   42072200.0   30326600.0   18858573.0         -27.92   \n",
       "2   Saturn   62913300.0   69052000.0   39987825.0           9.76   \n",
       "\n",
       "   Var_2019_2018  \n",
       "0         -23.29  \n",
       "1         -37.82  \n",
       "2         -42.09  "
      ]
     },
     "execution_count": 883,
     "metadata": {},
     "output_type": "execute_result"
    }
   ],
   "source": [
    "df_product_sale=df_purchase_full_agg.groupby(['product','sale_year'])['sale'].sum().reset_index().pivot( index='product',columns='sale_year', values='sale').reset_index()\n",
    "df_product_sale.columns=['product', '2017', '2018', '2019']\n",
    "df_product_sale['Var_2018_2017']=round(df_product_sale['2018']/df_product_sale['2017']-1,4)*100\n",
    "df_product_sale['Var_2019_2018']=round(df_product_sale['2019']/df_product_sale['2018']-1,4)*100\n",
    "df_product_sale"
   ]
  },
  {
   "cell_type": "markdown",
   "metadata": {},
   "source": [
    "__Sale of all models has seen drop over the last 36 months with the exception of Saturn which showed some resilience in 2018__\n",
    "\n",
    "__Saturn's sale holding in 2018 can be because if the promotion measures undertaken from 2018. We will analyze if this is the case later__"
   ]
  },
  {
   "cell_type": "code",
   "execution_count": 884,
   "metadata": {},
   "outputs": [
    {
     "data": {
      "text/plain": [
       "<matplotlib.axes._subplots.AxesSubplot at 0x1f769ae25c0>"
      ]
     },
     "execution_count": 884,
     "metadata": {},
     "output_type": "execute_result"
    },
    {
     "data": {
      "image/png": "[encoded data removed]",
      "text/plain": [
       "<Figure size 432x288 with 1 Axes>"
      ]
     },
     "metadata": {
      "needs_background": "light"
     },
     "output_type": "display_data"
    }
   ],
   "source": [
    "df_purchase_full_agg.groupby(['product','sale_year'])['sale'].sum().reset_index().pivot( index='product',columns='sale_year', values='sale').plot(kind='bar')"
   ]
  },
  {
   "cell_type": "markdown",
   "metadata": {},
   "source": [
    "_As seen, Jupiter contributes a big chunk of the revenue and the hit has taken in 2018 and 2019 has wornsened the already bad sale progreson_"
   ]
  },
  {
   "cell_type": "code",
   "execution_count": null,
   "metadata": {},
   "outputs": [],
   "source": []
  },
  {
   "cell_type": "markdown",
   "metadata": {},
   "source": [
    "Let us now look how sale has progressed throug Jan to Dec for eah year since 2017"
   ]
  },
  {
   "cell_type": "code",
   "execution_count": 885,
   "metadata": {},
   "outputs": [
    {
     "data": {
      "text/plain": [
       "<matplotlib.axes._subplots.AxesSubplot at 0x1f76af7f470>"
      ]
     },
     "execution_count": 885,
     "metadata": {},
     "output_type": "execute_result"
    },
    {
     "data": {
      "image/png": "[encoded data removed]",
      "text/plain": [
       "<Figure size 720x360 with 1 Axes>"
      ]
     },
     "metadata": {
      "needs_background": "light"
     },
     "output_type": "display_data"
    }
   ],
   "source": [
    "df_purchase_full_agg.groupby(['sale_year','sale_month'])['sale'].sum().reset_index().pivot( index='sale_month',columns='sale_year', values='sale').plot(figsize=(10,5))"
   ]
  },
  {
   "cell_type": "markdown",
   "metadata": {},
   "source": [
    "__So fare we have seen that__\n",
    "\n",
    "__1. There is a continued drop of Sale and Profit from 2017 to 2019__\n",
    "\n",
    "__2. The drop is across all models and months compared to the previous years__\n",
    "\n",
    "__This is most likely due to a combination unfavorable market conditions and competition__"
   ]
  },
  {
   "cell_type": "code",
   "execution_count": null,
   "metadata": {},
   "outputs": [],
   "source": []
  },
  {
   "cell_type": "markdown",
   "metadata": {},
   "source": [
    "We end the exploratory data anlaysis on Purchase data set by having a look at the percenatge contribution of the three models on Sale, Profit and Units Sold"
   ]
  },
  {
   "cell_type": "code",
   "execution_count": 886,
   "metadata": {
    "scrolled": true
   },
   "outputs": [
    {
     "data": {
      "text/plain": [
       "array([<matplotlib.axes._subplots.AxesSubplot object at 0x000001F76AFF6F98>,\n",
       "       <matplotlib.axes._subplots.AxesSubplot object at 0x000001F76B206C18>,\n",
       "       <matplotlib.axes._subplots.AxesSubplot object at 0x000001F76B241080>],\n",
       "      dtype=object)"
      ]
     },
     "execution_count": 886,
     "metadata": {},
     "output_type": "execute_result"
    },
    {
     "data": {
      "image/png": "[encoded data removed]",
      "text/plain": [
       "<Figure size 720x720 with 3 Axes>"
      ]
     },
     "metadata": {},
     "output_type": "display_data"
    }
   ],
   "source": [
    "DF_Purchases_Clean.groupby([\"product\"]).agg({'sale':'sum','profit':'sum','customer_id':'count'}).plot(kind='pie',subplots=True,autopct='%1.0f%%',legend=False,figsize=(10,10))"
   ]
  },
  {
   "cell_type": "markdown",
   "metadata": {},
   "source": [
    "_As seen, Jupiter is the most selling model with over 60% of contribution to both Sale and Profit_"
   ]
  },
  {
   "cell_type": "code",
   "execution_count": null,
   "metadata": {},
   "outputs": [],
   "source": []
  },
  {
   "cell_type": "markdown",
   "metadata": {},
   "source": [
    "__With understandings gained from the Purchase data analysis, we turn our attention to the Lead dataset__\n",
    "\n",
    "__First let us gathere some genearl idea about the columns and data__"
   ]
  },
  {
   "cell_type": "code",
   "execution_count": 887,
   "metadata": {},
   "outputs": [
    {
     "data": {
      "text/html": [
       "<div>\n",
       "<style scoped>\n",
       "    .dataframe tbody tr th:only-of-type {\n",
       "        vertical-align: middle;\n",
       "    }\n",
       "\n",
       "    .dataframe tbody tr th {\n",
       "        vertical-align: top;\n",
       "    }\n",
       "\n",
       "    .dataframe thead th {\n",
       "        text-align: right;\n",
       "    }\n",
       "</style>\n",
       "<table border=\"1\" class=\"dataframe\">\n",
       "  <thead>\n",
       "    <tr style=\"text-align: right;\">\n",
       "      <th></th>\n",
       "      <th>customer_id</th>\n",
       "      <th>lead_date</th>\n",
       "      <th>product</th>\n",
       "      <th>gender</th>\n",
       "      <th>nationality</th>\n",
       "      <th>emirate</th>\n",
       "      <th>salary</th>\n",
       "      <th>dob</th>\n",
       "    </tr>\n",
       "  </thead>\n",
       "  <tbody>\n",
       "    <tr>\n",
       "      <th>0</th>\n",
       "      <td>1</td>\n",
       "      <td>2016-12-01</td>\n",
       "      <td>Saturn</td>\n",
       "      <td>Male</td>\n",
       "      <td>India</td>\n",
       "      <td>Dubai</td>\n",
       "      <td>0.0</td>\n",
       "      <td>1982-03-31</td>\n",
       "    </tr>\n",
       "    <tr>\n",
       "      <th>1</th>\n",
       "      <td>2</td>\n",
       "      <td>2016-12-01</td>\n",
       "      <td>Pluto</td>\n",
       "      <td>Male</td>\n",
       "      <td>U.A.E.</td>\n",
       "      <td>Sharjah</td>\n",
       "      <td>0.0</td>\n",
       "      <td>1967-05-19</td>\n",
       "    </tr>\n",
       "    <tr>\n",
       "      <th>2</th>\n",
       "      <td>3</td>\n",
       "      <td>2016-12-01</td>\n",
       "      <td>Pluto</td>\n",
       "      <td>Male</td>\n",
       "      <td>Pakistan</td>\n",
       "      <td>Sharjah</td>\n",
       "      <td>0.0</td>\n",
       "      <td>1958-11-08</td>\n",
       "    </tr>\n",
       "    <tr>\n",
       "      <th>3</th>\n",
       "      <td>4</td>\n",
       "      <td>2016-12-01</td>\n",
       "      <td>Saturn</td>\n",
       "      <td>Male</td>\n",
       "      <td>India</td>\n",
       "      <td>Dubai</td>\n",
       "      <td>9781.0</td>\n",
       "      <td>1970-07-16</td>\n",
       "    </tr>\n",
       "    <tr>\n",
       "      <th>4</th>\n",
       "      <td>5</td>\n",
       "      <td>2016-12-01</td>\n",
       "      <td>Jupiter</td>\n",
       "      <td>Female</td>\n",
       "      <td>U.A.E.</td>\n",
       "      <td>Fujairah</td>\n",
       "      <td>18430.0</td>\n",
       "      <td>1984-10-05</td>\n",
       "    </tr>\n",
       "    <tr>\n",
       "      <th>5</th>\n",
       "      <td>6</td>\n",
       "      <td>2016-12-01</td>\n",
       "      <td>Pluto</td>\n",
       "      <td>Male</td>\n",
       "      <td>Sri Lanka</td>\n",
       "      <td>Abu Dhabi</td>\n",
       "      <td>4820.0</td>\n",
       "      <td>1989-02-16</td>\n",
       "    </tr>\n",
       "    <tr>\n",
       "      <th>6</th>\n",
       "      <td>7</td>\n",
       "      <td>2016-12-01</td>\n",
       "      <td>Saturn</td>\n",
       "      <td>Male</td>\n",
       "      <td>India</td>\n",
       "      <td>Dubai</td>\n",
       "      <td>18714.0</td>\n",
       "      <td>1973-06-03</td>\n",
       "    </tr>\n",
       "    <tr>\n",
       "      <th>7</th>\n",
       "      <td>8</td>\n",
       "      <td>2016-12-01</td>\n",
       "      <td>Pluto</td>\n",
       "      <td>Female</td>\n",
       "      <td>Algeria</td>\n",
       "      <td>Dubai</td>\n",
       "      <td>8350.0</td>\n",
       "      <td>1985-01-14</td>\n",
       "    </tr>\n",
       "    <tr>\n",
       "      <th>8</th>\n",
       "      <td>9</td>\n",
       "      <td>2016-12-01</td>\n",
       "      <td>Saturn</td>\n",
       "      <td>Male</td>\n",
       "      <td>India</td>\n",
       "      <td>Dubai</td>\n",
       "      <td>7613.0</td>\n",
       "      <td>1985-12-19</td>\n",
       "    </tr>\n",
       "    <tr>\n",
       "      <th>9</th>\n",
       "      <td>10</td>\n",
       "      <td>2016-12-01</td>\n",
       "      <td>Jupiter</td>\n",
       "      <td>Male</td>\n",
       "      <td>Sudan</td>\n",
       "      <td>Dubai</td>\n",
       "      <td>35105.0</td>\n",
       "      <td>1967-07-07</td>\n",
       "    </tr>\n",
       "  </tbody>\n",
       "</table>\n",
       "</div>"
      ],
      "text/plain": [
       "   customer_id   lead_date  product  gender nationality    emirate   salary  \\\n",
       "0            1  2016-12-01   Saturn    Male       India      Dubai      0.0   \n",
       "1            2  2016-12-01    Pluto    Male      U.A.E.    Sharjah      0.0   \n",
       "2            3  2016-12-01    Pluto    Male    Pakistan    Sharjah      0.0   \n",
       "3            4  2016-12-01   Saturn    Male       India      Dubai   9781.0   \n",
       "4            5  2016-12-01  Jupiter  Female      U.A.E.   Fujairah  18430.0   \n",
       "5            6  2016-12-01    Pluto    Male   Sri Lanka  Abu Dhabi   4820.0   \n",
       "6            7  2016-12-01   Saturn    Male       India      Dubai  18714.0   \n",
       "7            8  2016-12-01    Pluto  Female     Algeria      Dubai   8350.0   \n",
       "8            9  2016-12-01   Saturn    Male       India      Dubai   7613.0   \n",
       "9           10  2016-12-01  Jupiter    Male       Sudan      Dubai  35105.0   \n",
       "\n",
       "          dob  \n",
       "0  1982-03-31  \n",
       "1  1967-05-19  \n",
       "2  1958-11-08  \n",
       "3  1970-07-16  \n",
       "4  1984-10-05  \n",
       "5  1989-02-16  \n",
       "6  1973-06-03  \n",
       "7  1985-01-14  \n",
       "8  1985-12-19  \n",
       "9  1967-07-07  "
      ]
     },
     "execution_count": 887,
     "metadata": {},
     "output_type": "execute_result"
    }
   ],
   "source": [
    "DF_Leads.head(10)"
   ]
  },
  {
   "cell_type": "code",
   "execution_count": 888,
   "metadata": {},
   "outputs": [
    {
     "name": "stdout",
     "output_type": "stream",
     "text": [
      "<class 'pandas.core.frame.DataFrame'>\n",
      "RangeIndex: 42010 entries, 0 to 42009\n",
      "Data columns (total 8 columns):\n",
      "customer_id    42010 non-null int64\n",
      "lead_date      42010 non-null object\n",
      "product        42010 non-null object\n",
      "gender         41932 non-null object\n",
      "nationality    41932 non-null object\n",
      "emirate        39521 non-null object\n",
      "salary         42010 non-null float64\n",
      "dob            37154 non-null object\n",
      "dtypes: float64(1), int64(1), object(6)\n",
      "memory usage: 2.6+ MB\n"
     ]
    }
   ],
   "source": [
    "DF_Leads.info()"
   ]
  },
  {
   "cell_type": "code",
   "execution_count": 889,
   "metadata": {},
   "outputs": [
    {
     "data": {
      "text/html": [
       "<div>\n",
       "<style scoped>\n",
       "    .dataframe tbody tr th:only-of-type {\n",
       "        vertical-align: middle;\n",
       "    }\n",
       "\n",
       "    .dataframe tbody tr th {\n",
       "        vertical-align: top;\n",
       "    }\n",
       "\n",
       "    .dataframe thead th {\n",
       "        text-align: right;\n",
       "    }\n",
       "</style>\n",
       "<table border=\"1\" class=\"dataframe\">\n",
       "  <thead>\n",
       "    <tr style=\"text-align: right;\">\n",
       "      <th></th>\n",
       "      <th>customer_id</th>\n",
       "      <th>salary</th>\n",
       "    </tr>\n",
       "  </thead>\n",
       "  <tbody>\n",
       "    <tr>\n",
       "      <th>count</th>\n",
       "      <td>42010.000000</td>\n",
       "      <td>4.201000e+04</td>\n",
       "    </tr>\n",
       "    <tr>\n",
       "      <th>mean</th>\n",
       "      <td>21005.500000</td>\n",
       "      <td>1.327542e+04</td>\n",
       "    </tr>\n",
       "    <tr>\n",
       "      <th>std</th>\n",
       "      <td>12127.386741</td>\n",
       "      <td>3.902116e+05</td>\n",
       "    </tr>\n",
       "    <tr>\n",
       "      <th>min</th>\n",
       "      <td>1.000000</td>\n",
       "      <td>0.000000e+00</td>\n",
       "    </tr>\n",
       "    <tr>\n",
       "      <th>25%</th>\n",
       "      <td>10503.250000</td>\n",
       "      <td>0.000000e+00</td>\n",
       "    </tr>\n",
       "    <tr>\n",
       "      <th>50%</th>\n",
       "      <td>21005.500000</td>\n",
       "      <td>0.000000e+00</td>\n",
       "    </tr>\n",
       "    <tr>\n",
       "      <th>75%</th>\n",
       "      <td>31507.750000</td>\n",
       "      <td>1.454875e+04</td>\n",
       "    </tr>\n",
       "    <tr>\n",
       "      <th>max</th>\n",
       "      <td>42010.000000</td>\n",
       "      <td>7.648655e+07</td>\n",
       "    </tr>\n",
       "  </tbody>\n",
       "</table>\n",
       "</div>"
      ],
      "text/plain": [
       "        customer_id        salary\n",
       "count  42010.000000  4.201000e+04\n",
       "mean   21005.500000  1.327542e+04\n",
       "std    12127.386741  3.902116e+05\n",
       "min        1.000000  0.000000e+00\n",
       "25%    10503.250000  0.000000e+00\n",
       "50%    21005.500000  0.000000e+00\n",
       "75%    31507.750000  1.454875e+04\n",
       "max    42010.000000  7.648655e+07"
      ]
     },
     "execution_count": 889,
     "metadata": {},
     "output_type": "execute_result"
    }
   ],
   "source": [
    "DF_Leads.describe()"
   ]
  },
  {
   "cell_type": "markdown",
   "metadata": {},
   "source": [
    "__We observe a lot of issues here , with so many columns missing values or having extreme outlier values. We will look at the fileds one by one and do an exploratory data analysis and clean the data__"
   ]
  },
  {
   "cell_type": "markdown",
   "metadata": {},
   "source": [
    "## Exploratory Data Analysis"
   ]
  },
  {
   "cell_type": "code",
   "execution_count": 890,
   "metadata": {},
   "outputs": [],
   "source": [
    "#first copy the data to a new dataframe to expore and clean\n",
    "DF_Leads_Clean = DF_Leads"
   ]
  },
  {
   "cell_type": "markdown",
   "metadata": {},
   "source": [
    "First let us look at the dob column. We are more interested in deriving the age of the customer from this column rather than using the actual dates. So, first lets create dob year column from this and drop the dob column"
   ]
  },
  {
   "cell_type": "code",
   "execution_count": 891,
   "metadata": {},
   "outputs": [],
   "source": [
    "DF_Leads_Clean[\"dob_year\"] = pd.to_datetime(DF_Leads_Clean.dob).dt.year"
   ]
  },
  {
   "cell_type": "code",
   "execution_count": 892,
   "metadata": {},
   "outputs": [],
   "source": [
    "DF_Leads_Clean.drop (['dob'],axis=1,inplace=True)"
   ]
  },
  {
   "cell_type": "markdown",
   "metadata": {},
   "source": [
    "### Now, let us look at the number of missing value and its percenatge for each column"
   ]
  },
  {
   "cell_type": "code",
   "execution_count": 893,
   "metadata": {},
   "outputs": [
    {
     "data": {
      "text/html": [
       "<div>\n",
       "<style scoped>\n",
       "    .dataframe tbody tr th:only-of-type {\n",
       "        vertical-align: middle;\n",
       "    }\n",
       "\n",
       "    .dataframe tbody tr th {\n",
       "        vertical-align: top;\n",
       "    }\n",
       "\n",
       "    .dataframe thead th {\n",
       "        text-align: right;\n",
       "    }\n",
       "</style>\n",
       "<table border=\"1\" class=\"dataframe\">\n",
       "  <thead>\n",
       "    <tr style=\"text-align: right;\">\n",
       "      <th></th>\n",
       "      <th>Total</th>\n",
       "      <th>%</th>\n",
       "    </tr>\n",
       "  </thead>\n",
       "  <tbody>\n",
       "    <tr>\n",
       "      <th>dob_year</th>\n",
       "      <td>4856</td>\n",
       "      <td>11.6</td>\n",
       "    </tr>\n",
       "    <tr>\n",
       "      <th>emirate</th>\n",
       "      <td>2489</td>\n",
       "      <td>5.9</td>\n",
       "    </tr>\n",
       "    <tr>\n",
       "      <th>nationality</th>\n",
       "      <td>78</td>\n",
       "      <td>0.2</td>\n",
       "    </tr>\n",
       "    <tr>\n",
       "      <th>gender</th>\n",
       "      <td>78</td>\n",
       "      <td>0.2</td>\n",
       "    </tr>\n",
       "    <tr>\n",
       "      <th>salary</th>\n",
       "      <td>0</td>\n",
       "      <td>0.0</td>\n",
       "    </tr>\n",
       "  </tbody>\n",
       "</table>\n",
       "</div>"
      ],
      "text/plain": [
       "             Total     %\n",
       "dob_year      4856  11.6\n",
       "emirate       2489   5.9\n",
       "nationality     78   0.2\n",
       "gender          78   0.2\n",
       "salary           0   0.0"
      ]
     },
     "execution_count": 893,
     "metadata": {},
     "output_type": "execute_result"
    }
   ],
   "source": [
    "total = DF_Leads_Clean.isnull().sum().sort_values(ascending=False)\n",
    "percent_1 = DF_Leads_Clean.isnull().sum()/DF_Leads_Clean.isnull().count()*100\n",
    "percent_2 = (round(percent_1, 1)).sort_values(ascending=False)\n",
    "missing_data = pd.concat([total, percent_2], axis=1, keys=['Total', '%'])\n",
    "missing_data.head(5)"
   ]
  },
  {
   "cell_type": "markdown",
   "metadata": {},
   "source": [
    "#### 1. DOB_YEAR"
   ]
  },
  {
   "cell_type": "markdown",
   "metadata": {},
   "source": [
    "__We run a quick stats on the column and see the its distribution using a histogram__"
   ]
  },
  {
   "cell_type": "code",
   "execution_count": 894,
   "metadata": {},
   "outputs": [
    {
     "data": {
      "text/plain": [
       "count    37154.000000\n",
       "mean      1977.868036\n",
       "std         11.599738\n",
       "min       1899.000000\n",
       "25%       1972.000000\n",
       "50%       1980.000000\n",
       "75%       1986.000000\n",
       "max       2019.000000\n",
       "Name: dob_year, dtype: float64"
      ]
     },
     "execution_count": 894,
     "metadata": {},
     "output_type": "execute_result"
    }
   ],
   "source": [
    "DF_Leads_Clean.dob_year.describe()"
   ]
  },
  {
   "cell_type": "code",
   "execution_count": 895,
   "metadata": {},
   "outputs": [
    {
     "data": {
      "text/plain": [
       "<matplotlib.axes._subplots.AxesSubplot at 0x1f76b4c50f0>"
      ]
     },
     "execution_count": 895,
     "metadata": {},
     "output_type": "execute_result"
    },
    {
     "data": {
      "image/png": "[encoded data removed]",
      "text/plain": [
       "<Figure size 432x288 with 1 Axes>"
      ]
     },
     "metadata": {
      "needs_background": "light"
     },
     "output_type": "display_data"
    }
   ],
   "source": [
    "DF_Leads_Clean.dob_year.hist()"
   ]
  },
  {
   "cell_type": "markdown",
   "metadata": {},
   "source": [
    "__First we assume that the customer are between 20 to 70 years old, which is very resonable looking at the histogram as ouliers look like bada data. We bring the dob year in range first__"
   ]
  },
  {
   "cell_type": "code",
   "execution_count": 896,
   "metadata": {},
   "outputs": [],
   "source": [
    "DF_Leads_Clean.loc[DF_Leads_Clean['dob_year'] > 2000, ['dob_year']] = 2000\n",
    "DF_Leads_Clean.loc[DF_Leads_Clean['dob_year'] < 1950, ['dob_year']] = 1950"
   ]
  },
  {
   "cell_type": "markdown",
   "metadata": {},
   "source": [
    "__We are still left with the missing values in the dob year column__\n",
    "\n",
    "__To fill, twe create a list of random years around the medain year of 1980__\n",
    "\n",
    "__The length of this list is equal to the number of missing vallues and this is used to fill the missing values__"
   ]
  },
  {
   "cell_type": "code",
   "execution_count": 897,
   "metadata": {},
   "outputs": [],
   "source": [
    "is_null = DF_Leads_Clean['dob_year'].isnull().sum()\n",
    "# compute random numbers between around the median year\n",
    "rand_year = np.random.randint(1970, 1990, size = is_null)\n",
    "# fill NaN values in dob_year column with random values generated\n",
    "year_slice = DF_Leads_Clean['dob_year'].copy()\n",
    "year_slice[np.isnan(year_slice)] = rand_year"
   ]
  },
  {
   "cell_type": "code",
   "execution_count": 898,
   "metadata": {},
   "outputs": [
    {
     "data": {
      "text/plain": [
       "0"
      ]
     },
     "execution_count": 898,
     "metadata": {},
     "output_type": "execute_result"
    }
   ],
   "source": [
    "DF_Leads_Clean['dob_year']=year_slice\n",
    "DF_Leads_Clean['dob_year'].isnull().sum()"
   ]
  },
  {
   "cell_type": "code",
   "execution_count": 899,
   "metadata": {
    "scrolled": true
   },
   "outputs": [
    {
     "data": {
      "text/plain": [
       "<matplotlib.axes._subplots.AxesSubplot at 0x1f76b502358>"
      ]
     },
     "execution_count": 899,
     "metadata": {},
     "output_type": "execute_result"
    },
    {
     "data": {
      "image/png": "[encoded data removed]",
      "text/plain": [
       "<Figure size 432x288 with 1 Axes>"
      ]
     },
     "metadata": {
      "needs_background": "light"
     },
     "output_type": "display_data"
    }
   ],
   "source": [
    "DF_Leads_Clean.dob_year.hist()"
   ]
  },
  {
   "cell_type": "markdown",
   "metadata": {},
   "source": [
    "### 2. Emirate"
   ]
  },
  {
   "cell_type": "markdown",
   "metadata": {},
   "source": [
    "DF_Leads_Clean.emirate.value_counts()"
   ]
  },
  {
   "cell_type": "markdown",
   "metadata": {},
   "source": [
    "__First, sale in Khorfakan is assigned to its Emiarte Sharjah, one rare entry of Muscat is assigned to Dubai__"
   ]
  },
  {
   "cell_type": "code",
   "execution_count": 900,
   "metadata": {},
   "outputs": [],
   "source": [
    "DF_Leads_Clean.loc[DF_Leads_Clean['emirate'] == \"Khorfakan\", ['emirate']] = 'Sharjah'\n",
    "DF_Leads_Clean.loc[DF_Leads_Clean['emirate'] == \"Muscat\", ['emirate']] = 'Dubai'"
   ]
  },
  {
   "cell_type": "markdown",
   "metadata": {},
   "source": [
    "_Even though Al-Ain is part of Abu Dhabi Emirate, we treat it as separate Emirate for analysis as it has significant sale volume_"
   ]
  },
  {
   "cell_type": "markdown",
   "metadata": {},
   "source": [
    "__The missing values are filled by randomly drawing a sample, length of which is equal to the number of missing values, from the non nulls values in the emirates column. This makes sure that the a similar distribution of the non null values is maintained in the drawn sample__"
   ]
  },
  {
   "cell_type": "code",
   "execution_count": 901,
   "metadata": {},
   "outputs": [],
   "source": [
    "full_list = DF_Leads_Clean[DF_Leads_Clean.emirate.notnull()].emirate.to_list()\n",
    "em_null = DF_Leads_Clean['emirate'].isnull().sum()\n",
    "\n",
    "sampled_list = random.sample(full_list, em_null)\n",
    "DF_Leads_Clean.loc[DF_Leads_Clean['emirate'].isnull(),['emirate']]=sampled_list"
   ]
  },
  {
   "cell_type": "code",
   "execution_count": 902,
   "metadata": {},
   "outputs": [
    {
     "data": {
      "text/plain": [
       "0"
      ]
     },
     "execution_count": 902,
     "metadata": {},
     "output_type": "execute_result"
    }
   ],
   "source": [
    "DF_Leads_Clean.emirate.isnull().sum()"
   ]
  },
  {
   "cell_type": "markdown",
   "metadata": {},
   "source": [
    "### 3. Nationality"
   ]
  },
  {
   "cell_type": "code",
   "execution_count": 903,
   "metadata": {},
   "outputs": [
    {
     "data": {
      "text/plain": [
       "U.A.E.                15909\n",
       "India                  9476\n",
       "Egypt                  2917\n",
       "Pakistan               2070\n",
       "Not Known              1765\n",
       "Jordan                 1047\n",
       "Sudan                   843\n",
       "Syria                   768\n",
       "Philippines             763\n",
       "United Kingdom          569\n",
       "Iran                    383\n",
       "Palestinian             382\n",
       "Yemen                   372\n",
       "Lebanon                 365\n",
       "Iraq                    317\n",
       "China                   235\n",
       "USA                     199\n",
       "Oman                    190\n",
       "Comoro                  190\n",
       "Canada                  184\n",
       "Bangladesh              181\n",
       "Sri Lanka               156\n",
       "South Africa            137\n",
       "Afghanistan             115\n",
       "France                  111\n",
       "Morocco                 107\n",
       "Russian Fed.             94\n",
       "Ethiopia                 84\n",
       "Tunisia                  73\n",
       "Somalia                  71\n",
       "                      ...  \n",
       "Marianian                 1\n",
       "Mongolia                  1\n",
       "Samoan                    1\n",
       "Madagascar                1\n",
       "Montserrat                1\n",
       "Macau                     1\n",
       "Puerto Rico               1\n",
       "Namibia                   1\n",
       "Bermuda                   1\n",
       "Grenada                   1\n",
       "Guinean                   1\n",
       "Brunei Dar-es-S           1\n",
       "Sao Tome                  1\n",
       "Christmas Island          1\n",
       "U.S. Minor Islands        1\n",
       "Trinidad,Tobago           1\n",
       "Dominican Rep.            1\n",
       "Seychelles                1\n",
       "Tonga                     1\n",
       "Peru                      1\n",
       "Reunion                   1\n",
       "Botswanan                 1\n",
       "Dutch Antillean           1\n",
       "Cuban                     1\n",
       "North Korea               1\n",
       "Paraguay                  1\n",
       "Monaco                    1\n",
       "Suriname                  1\n",
       "Honduras                  1\n",
       "Gabonese                  1\n",
       "Name: nationality, Length: 178, dtype: int64"
      ]
     },
     "execution_count": 903,
     "metadata": {},
     "output_type": "execute_result"
    }
   ],
   "source": [
    "DF_Leads_Clean.nationality.value_counts()"
   ]
  },
  {
   "cell_type": "code",
   "execution_count": 904,
   "metadata": {},
   "outputs": [
    {
     "data": {
      "text/plain": [
       "count      41932\n",
       "unique       178\n",
       "top       U.A.E.\n",
       "freq       15909\n",
       "Name: nationality, dtype: object"
      ]
     },
     "execution_count": 904,
     "metadata": {},
     "output_type": "execute_result"
    }
   ],
   "source": [
    "DF_Leads_Clean.nationality.describe()"
   ]
  },
  {
   "cell_type": "markdown",
   "metadata": {},
   "source": [
    "__We have only 2% of the values as null in the nationality column. But there are a lot of \"Not Known\" values in the column. To replace these vlaues together, we folow a simlar approach as we used for emirate column__"
   ]
  },
  {
   "cell_type": "code",
   "execution_count": 905,
   "metadata": {},
   "outputs": [],
   "source": [
    "full_not_null = DF_Leads_Clean[(DF_Leads_Clean.nationality.notnull()) & (DF_Leads_Clean.nationality !='Not Known')].nationality.to_list()\n",
    "nat_null = DF_Leads_Clean[(DF_Leads_Clean.nationality.isnull())| (DF_Leads_Clean.nationality=='Not Known')].customer_id.count()\n",
    "nat_sampled_list = random.sample(full_not_null, nat_null)\n",
    "DF_Leads_Clean.loc[(DF_Leads_Clean.nationality.isnull())| (DF_Leads_Clean.nationality=='Not Known'),['nationality']]=nat_sampled_list"
   ]
  },
  {
   "cell_type": "code",
   "execution_count": null,
   "metadata": {},
   "outputs": [],
   "source": []
  },
  {
   "cell_type": "markdown",
   "metadata": {},
   "source": [
    "### 4. Gender"
   ]
  },
  {
   "cell_type": "markdown",
   "metadata": {},
   "source": [
    "__We have only 2% of the values as null in the nationality column. We replace this with the most common value \"Male\"__"
   ]
  },
  {
   "cell_type": "code",
   "execution_count": 906,
   "metadata": {},
   "outputs": [
    {
     "data": {
      "text/plain": [
       "Male      34913\n",
       "Female     7019\n",
       "Name: gender, dtype: int64"
      ]
     },
     "execution_count": 906,
     "metadata": {},
     "output_type": "execute_result"
    }
   ],
   "source": [
    "DF_Leads_Clean.gender.value_counts()"
   ]
  },
  {
   "cell_type": "code",
   "execution_count": 907,
   "metadata": {},
   "outputs": [],
   "source": [
    "DF_Leads_Clean.gender.fillna(\"Male\",inplace=True)"
   ]
  },
  {
   "cell_type": "code",
   "execution_count": null,
   "metadata": {},
   "outputs": [],
   "source": []
  },
  {
   "cell_type": "markdown",
   "metadata": {},
   "source": [
    "### 5. Salary"
   ]
  },
  {
   "cell_type": "markdown",
   "metadata": {},
   "source": [
    "__On the first look, salary column had no missing values. However, a closer look revels that the value is zero wherever the data is not vailable. Around 60% of the values are zero, we will emply a combination of two methods two replace these__"
   ]
  },
  {
   "cell_type": "code",
   "execution_count": 908,
   "metadata": {},
   "outputs": [
    {
     "data": {
      "text/plain": [
       "count    4.201000e+04\n",
       "mean     1.327542e+04\n",
       "std      3.902116e+05\n",
       "min      0.000000e+00\n",
       "25%      0.000000e+00\n",
       "50%      0.000000e+00\n",
       "75%      1.454875e+04\n",
       "max      7.648655e+07\n",
       "Name: salary, dtype: float64"
      ]
     },
     "execution_count": 908,
     "metadata": {},
     "output_type": "execute_result"
    }
   ],
   "source": [
    "DF_Leads_Clean.salary.describe()"
   ]
  },
  {
   "cell_type": "code",
   "execution_count": 909,
   "metadata": {},
   "outputs": [
    {
     "data": {
      "text/plain": [
       "0.0    26097\n",
       "Name: salary, dtype: int64"
      ]
     },
     "execution_count": 909,
     "metadata": {},
     "output_type": "execute_result"
    }
   ],
   "source": [
    "DF_Leads_Clean[DF_Leads_Clean.salary==0].salary.value_counts()"
   ]
  },
  {
   "cell_type": "code",
   "execution_count": 340,
   "metadata": {},
   "outputs": [
    {
     "data": {
      "text/plain": [
       "count    1.591300e+04\n",
       "mean     3.504683e+04\n",
       "std      6.334267e+05\n",
       "min      2.000000e+00\n",
       "25%      1.143700e+04\n",
       "50%      2.001000e+04\n",
       "75%      3.048200e+04\n",
       "max      7.648655e+07\n",
       "Name: salary, dtype: float64"
      ]
     },
     "execution_count": 340,
     "metadata": {},
     "output_type": "execute_result"
    }
   ],
   "source": [
    "DF_Leads_Clean[DF_Leads_Clean.salary>0].salary.describe()"
   ]
  },
  {
   "cell_type": "markdown",
   "metadata": {},
   "source": [
    "__Salary column has extreme outlier values ranging to millions, some of these figures look like annual salary number. First we will bring the higher values in range by lowering any salary which is 2.5 times the inter quartile range over the 75th percentile__"
   ]
  },
  {
   "cell_type": "code",
   "execution_count": 843,
   "metadata": {},
   "outputs": [
    {
     "data": {
      "text/plain": [
       "78094.5"
      ]
     },
     "execution_count": 843,
     "metadata": {},
     "output_type": "execute_result"
    }
   ],
   "source": [
    "u_q= DF_Leads_Clean[DF_Leads_Clean.salary>0].salary.quantile(0.75)\n",
    "l_q= DF_Leads_Clean[DF_Leads_Clean.salary>0].salary.quantile(0.25)\n",
    "iqr = u_q - l_q\n",
    "sal_ceiling=u_q + 2.5*iqr\n",
    "sal_ceiling"
   ]
  },
  {
   "cell_type": "code",
   "execution_count": 910,
   "metadata": {},
   "outputs": [],
   "source": [
    "DF_Leads_Clean.loc[DF_Leads_Clean['salary'] > sal_ceiling, ['salary']] = u_q +2*iqr"
   ]
  },
  {
   "cell_type": "code",
   "execution_count": 911,
   "metadata": {},
   "outputs": [],
   "source": [
    "DF_Leads_Clean.loc[DF_Leads_Clean['salary'] == 2, ['salary']] = 20000"
   ]
  },
  {
   "cell_type": "code",
   "execution_count": 912,
   "metadata": {},
   "outputs": [
    {
     "data": {
      "text/plain": [
       "<matplotlib.axes._subplots.AxesSubplot at 0x1f76b55bac8>"
      ]
     },
     "execution_count": 912,
     "metadata": {},
     "output_type": "execute_result"
    },
    {
     "data": {
      "image/png": "[encoded data removed]",
      "text/plain": [
       "<Figure size 432x288 with 1 Axes>"
      ]
     },
     "metadata": {
      "needs_background": "light"
     },
     "output_type": "display_data"
    }
   ],
   "source": [
    "DF_Leads_Clean[DF_Leads_Clean.salary>0].salary.hist()"
   ]
  },
  {
   "cell_type": "markdown",
   "metadata": {},
   "source": [
    "__Secondly, we will use a similar approach like the one we used for dob year. Here we use random salry values between 25th percentile and 75th percentile to fill the zero values__"
   ]
  },
  {
   "cell_type": "code",
   "execution_count": 913,
   "metadata": {},
   "outputs": [],
   "source": [
    "sal_zero = DF_Leads_Clean[DF_Leads_Clean.salary==0].salary.count()\n",
    "# compute random numbers between around the median year\n",
    "rand_sal = np.random.randint(l_q, u_q, size = sal_zero)\n",
    "# fill NaN values in dob_year column with random values generated\n",
    "sal_slice = DF_Leads_Clean['salary'].copy()\n",
    "DF_Leads_Clean.loc[DF_Leads_Clean['salary']==0,['salary']]=rand_sal"
   ]
  },
  {
   "cell_type": "markdown",
   "metadata": {},
   "source": [
    "Finally we will inspect the datframe again for any missing values."
   ]
  },
  {
   "cell_type": "code",
   "execution_count": 914,
   "metadata": {},
   "outputs": [
    {
     "name": "stdout",
     "output_type": "stream",
     "text": [
      "<class 'pandas.core.frame.DataFrame'>\n",
      "RangeIndex: 42010 entries, 0 to 42009\n",
      "Data columns (total 8 columns):\n",
      "customer_id    42010 non-null int64\n",
      "lead_date      42010 non-null object\n",
      "product        42010 non-null object\n",
      "gender         42010 non-null object\n",
      "nationality    42010 non-null object\n",
      "emirate        42010 non-null object\n",
      "salary         42010 non-null float64\n",
      "dob_year       42010 non-null float64\n",
      "dtypes: float64(2), int64(1), object(5)\n",
      "memory usage: 2.6+ MB\n"
     ]
    }
   ],
   "source": [
    "DF_Leads_Clean.info()"
   ]
  },
  {
   "cell_type": "markdown",
   "metadata": {},
   "source": [
    "Now, to prepare the final full Purchade data set we add a derived columns"
   ]
  },
  {
   "cell_type": "code",
   "execution_count": 915,
   "metadata": {},
   "outputs": [],
   "source": [
    "DF_Leads_Clean[\"lead_year\"] = pd.to_datetime(DF_Leads_Clean.lead_date).dt.year\n",
    "DF_Leads_Clean[\"lead_month\"] = pd.to_datetime(DF_Leads_Clean.lead_date).dt.month"
   ]
  },
  {
   "cell_type": "code",
   "execution_count": 916,
   "metadata": {},
   "outputs": [],
   "source": [
    "DF_Leads_Clean[\"age\"] =  datetime.now().year - DF_Leads_Clean[\"dob_year\"].astype(int)"
   ]
  },
  {
   "cell_type": "code",
   "execution_count": 917,
   "metadata": {},
   "outputs": [],
   "source": [
    "DF_Leads_Clean.drop (['dob_year'],axis=1,inplace=True)"
   ]
  },
  {
   "cell_type": "code",
   "execution_count": 918,
   "metadata": {},
   "outputs": [
    {
     "data": {
      "text/html": [
       "<div>\n",
       "<style scoped>\n",
       "    .dataframe tbody tr th:only-of-type {\n",
       "        vertical-align: middle;\n",
       "    }\n",
       "\n",
       "    .dataframe tbody tr th {\n",
       "        vertical-align: top;\n",
       "    }\n",
       "\n",
       "    .dataframe thead th {\n",
       "        text-align: right;\n",
       "    }\n",
       "</style>\n",
       "<table border=\"1\" class=\"dataframe\">\n",
       "  <thead>\n",
       "    <tr style=\"text-align: right;\">\n",
       "      <th></th>\n",
       "      <th>customer_id</th>\n",
       "      <th>lead_date</th>\n",
       "      <th>product</th>\n",
       "      <th>gender</th>\n",
       "      <th>nationality</th>\n",
       "      <th>emirate</th>\n",
       "      <th>salary</th>\n",
       "      <th>lead_year</th>\n",
       "      <th>lead_month</th>\n",
       "      <th>age</th>\n",
       "    </tr>\n",
       "  </thead>\n",
       "  <tbody>\n",
       "    <tr>\n",
       "      <th>0</th>\n",
       "      <td>1</td>\n",
       "      <td>2016-12-01</td>\n",
       "      <td>Saturn</td>\n",
       "      <td>Male</td>\n",
       "      <td>India</td>\n",
       "      <td>Dubai</td>\n",
       "      <td>24516.0</td>\n",
       "      <td>2016</td>\n",
       "      <td>12</td>\n",
       "      <td>38</td>\n",
       "    </tr>\n",
       "    <tr>\n",
       "      <th>1</th>\n",
       "      <td>2</td>\n",
       "      <td>2016-12-01</td>\n",
       "      <td>Pluto</td>\n",
       "      <td>Male</td>\n",
       "      <td>U.A.E.</td>\n",
       "      <td>Sharjah</td>\n",
       "      <td>25299.0</td>\n",
       "      <td>2016</td>\n",
       "      <td>12</td>\n",
       "      <td>53</td>\n",
       "    </tr>\n",
       "    <tr>\n",
       "      <th>2</th>\n",
       "      <td>3</td>\n",
       "      <td>2016-12-01</td>\n",
       "      <td>Pluto</td>\n",
       "      <td>Male</td>\n",
       "      <td>Pakistan</td>\n",
       "      <td>Sharjah</td>\n",
       "      <td>12351.0</td>\n",
       "      <td>2016</td>\n",
       "      <td>12</td>\n",
       "      <td>62</td>\n",
       "    </tr>\n",
       "    <tr>\n",
       "      <th>3</th>\n",
       "      <td>4</td>\n",
       "      <td>2016-12-01</td>\n",
       "      <td>Saturn</td>\n",
       "      <td>Male</td>\n",
       "      <td>India</td>\n",
       "      <td>Dubai</td>\n",
       "      <td>9781.0</td>\n",
       "      <td>2016</td>\n",
       "      <td>12</td>\n",
       "      <td>50</td>\n",
       "    </tr>\n",
       "    <tr>\n",
       "      <th>4</th>\n",
       "      <td>5</td>\n",
       "      <td>2016-12-01</td>\n",
       "      <td>Jupiter</td>\n",
       "      <td>Female</td>\n",
       "      <td>U.A.E.</td>\n",
       "      <td>Fujairah</td>\n",
       "      <td>18430.0</td>\n",
       "      <td>2016</td>\n",
       "      <td>12</td>\n",
       "      <td>36</td>\n",
       "    </tr>\n",
       "  </tbody>\n",
       "</table>\n",
       "</div>"
      ],
      "text/plain": [
       "   customer_id   lead_date  product  gender nationality   emirate   salary  \\\n",
       "0            1  2016-12-01   Saturn    Male       India     Dubai  24516.0   \n",
       "1            2  2016-12-01    Pluto    Male      U.A.E.   Sharjah  25299.0   \n",
       "2            3  2016-12-01    Pluto    Male    Pakistan   Sharjah  12351.0   \n",
       "3            4  2016-12-01   Saturn    Male       India     Dubai   9781.0   \n",
       "4            5  2016-12-01  Jupiter  Female      U.A.E.  Fujairah  18430.0   \n",
       "\n",
       "   lead_year  lead_month  age  \n",
       "0       2016          12   38  \n",
       "1       2016          12   53  \n",
       "2       2016          12   62  \n",
       "3       2016          12   50  \n",
       "4       2016          12   36  "
      ]
     },
     "execution_count": 918,
     "metadata": {},
     "output_type": "execute_result"
    }
   ],
   "source": [
    "DF_Leads_Clean.head()"
   ]
  },
  {
   "cell_type": "markdown",
   "metadata": {},
   "source": [
    "## Data Anlaysis on the Customer Demography"
   ]
  },
  {
   "cell_type": "code",
   "execution_count": 919,
   "metadata": {},
   "outputs": [],
   "source": [
    "# Combine the Purchase and Lead dataframes\n",
    "\n",
    "DF_Purchase_Full=DF_Leads_Clean.merge(DF_Purchases_Clean[['customer_id','product','sale','profit','sale_year','sale_month','year_month']],how='inner',on='customer_id', suffixes=('_lead', '_purchase'))"
   ]
  },
  {
   "cell_type": "code",
   "execution_count": 920,
   "metadata": {
    "scrolled": false
   },
   "outputs": [
    {
     "data": {
      "text/html": [
       "<div>\n",
       "<style scoped>\n",
       "    .dataframe tbody tr th:only-of-type {\n",
       "        vertical-align: middle;\n",
       "    }\n",
       "\n",
       "    .dataframe tbody tr th {\n",
       "        vertical-align: top;\n",
       "    }\n",
       "\n",
       "    .dataframe thead th {\n",
       "        text-align: right;\n",
       "    }\n",
       "</style>\n",
       "<table border=\"1\" class=\"dataframe\">\n",
       "  <thead>\n",
       "    <tr style=\"text-align: right;\">\n",
       "      <th></th>\n",
       "      <th>customer_id</th>\n",
       "      <th>lead_date</th>\n",
       "      <th>product_lead</th>\n",
       "      <th>gender</th>\n",
       "      <th>nationality</th>\n",
       "      <th>emirate</th>\n",
       "      <th>salary</th>\n",
       "      <th>lead_year</th>\n",
       "      <th>lead_month</th>\n",
       "      <th>age</th>\n",
       "      <th>product_purchase</th>\n",
       "      <th>sale</th>\n",
       "      <th>profit</th>\n",
       "      <th>sale_year</th>\n",
       "      <th>sale_month</th>\n",
       "      <th>year_month</th>\n",
       "    </tr>\n",
       "  </thead>\n",
       "  <tbody>\n",
       "    <tr>\n",
       "      <th>0</th>\n",
       "      <td>1850</td>\n",
       "      <td>2017-01-02</td>\n",
       "      <td>Pluto</td>\n",
       "      <td>Male</td>\n",
       "      <td>Pakistan</td>\n",
       "      <td>Dubai</td>\n",
       "      <td>15539.0</td>\n",
       "      <td>2017</td>\n",
       "      <td>1</td>\n",
       "      <td>27</td>\n",
       "      <td>Pluto</td>\n",
       "      <td>36700.0</td>\n",
       "      <td>16700.0</td>\n",
       "      <td>2017</td>\n",
       "      <td>1</td>\n",
       "      <td>201701</td>\n",
       "    </tr>\n",
       "    <tr>\n",
       "      <th>1</th>\n",
       "      <td>1853</td>\n",
       "      <td>2017-01-02</td>\n",
       "      <td>Jupiter</td>\n",
       "      <td>Male</td>\n",
       "      <td>U.A.E.</td>\n",
       "      <td>Abu Dhabi</td>\n",
       "      <td>24580.0</td>\n",
       "      <td>2017</td>\n",
       "      <td>1</td>\n",
       "      <td>45</td>\n",
       "      <td>Jupiter</td>\n",
       "      <td>77000.0</td>\n",
       "      <td>37000.0</td>\n",
       "      <td>2017</td>\n",
       "      <td>1</td>\n",
       "      <td>201701</td>\n",
       "    </tr>\n",
       "    <tr>\n",
       "      <th>2</th>\n",
       "      <td>1855</td>\n",
       "      <td>2017-01-02</td>\n",
       "      <td>Saturn</td>\n",
       "      <td>Male</td>\n",
       "      <td>India</td>\n",
       "      <td>Dubai</td>\n",
       "      <td>14458.0</td>\n",
       "      <td>2017</td>\n",
       "      <td>1</td>\n",
       "      <td>44</td>\n",
       "      <td>Saturn</td>\n",
       "      <td>47000.0</td>\n",
       "      <td>22000.0</td>\n",
       "      <td>2017</td>\n",
       "      <td>1</td>\n",
       "      <td>201701</td>\n",
       "    </tr>\n",
       "    <tr>\n",
       "      <th>3</th>\n",
       "      <td>1857</td>\n",
       "      <td>2017-01-02</td>\n",
       "      <td>Saturn</td>\n",
       "      <td>Male</td>\n",
       "      <td>Egypt</td>\n",
       "      <td>Sharjah</td>\n",
       "      <td>5813.0</td>\n",
       "      <td>2017</td>\n",
       "      <td>1</td>\n",
       "      <td>46</td>\n",
       "      <td>Saturn</td>\n",
       "      <td>46400.0</td>\n",
       "      <td>21400.0</td>\n",
       "      <td>2017</td>\n",
       "      <td>1</td>\n",
       "      <td>201701</td>\n",
       "    </tr>\n",
       "    <tr>\n",
       "      <th>4</th>\n",
       "      <td>1870</td>\n",
       "      <td>2017-01-02</td>\n",
       "      <td>Saturn</td>\n",
       "      <td>Female</td>\n",
       "      <td>U.A.E.</td>\n",
       "      <td>Sharjah</td>\n",
       "      <td>8549.0</td>\n",
       "      <td>2017</td>\n",
       "      <td>1</td>\n",
       "      <td>43</td>\n",
       "      <td>Saturn</td>\n",
       "      <td>47900.0</td>\n",
       "      <td>22900.0</td>\n",
       "      <td>2017</td>\n",
       "      <td>1</td>\n",
       "      <td>201701</td>\n",
       "    </tr>\n",
       "  </tbody>\n",
       "</table>\n",
       "</div>"
      ],
      "text/plain": [
       "   customer_id   lead_date product_lead  gender nationality    emirate  \\\n",
       "0         1850  2017-01-02        Pluto    Male    Pakistan      Dubai   \n",
       "1         1853  2017-01-02      Jupiter    Male      U.A.E.  Abu Dhabi   \n",
       "2         1855  2017-01-02       Saturn    Male       India      Dubai   \n",
       "3         1857  2017-01-02       Saturn    Male       Egypt    Sharjah   \n",
       "4         1870  2017-01-02       Saturn  Female      U.A.E.    Sharjah   \n",
       "\n",
       "    salary  lead_year  lead_month  age product_purchase     sale   profit  \\\n",
       "0  15539.0       2017           1   27            Pluto  36700.0  16700.0   \n",
       "1  24580.0       2017           1   45          Jupiter  77000.0  37000.0   \n",
       "2  14458.0       2017           1   44           Saturn  47000.0  22000.0   \n",
       "3   5813.0       2017           1   46           Saturn  46400.0  21400.0   \n",
       "4   8549.0       2017           1   43           Saturn  47900.0  22900.0   \n",
       "\n",
       "   sale_year  sale_month year_month  \n",
       "0       2017           1     201701  \n",
       "1       2017           1     201701  \n",
       "2       2017           1     201701  \n",
       "3       2017           1     201701  \n",
       "4       2017           1     201701  "
      ]
     },
     "execution_count": 920,
     "metadata": {},
     "output_type": "execute_result"
    }
   ],
   "source": [
    "DF_Purchase_Full.head()"
   ]
  },
  {
   "cell_type": "code",
   "execution_count": null,
   "metadata": {},
   "outputs": [],
   "source": []
  },
  {
   "cell_type": "markdown",
   "metadata": {},
   "source": [
    "Lets first look at the contribution of sale by each emirate"
   ]
  },
  {
   "cell_type": "code",
   "execution_count": 921,
   "metadata": {},
   "outputs": [
    {
     "data": {
      "text/plain": [
       "array([<matplotlib.axes._subplots.AxesSubplot object at 0x000001F76B805A20>],\n",
       "      dtype=object)"
      ]
     },
     "execution_count": 921,
     "metadata": {},
     "output_type": "execute_result"
    },
    {
     "data": {
      "image/png": "[encoded data removed]",
      "text/plain": [
       "<Figure size 432x288 with 1 Axes>"
      ]
     },
     "metadata": {},
     "output_type": "display_data"
    }
   ],
   "source": [
    "DF_Purchase_Full.groupby(['emirate'])['sale'].sum().to_frame().plot(kind='pie',subplots=True,autopct='%1.0f%%',legend=False)"
   ]
  },
  {
   "cell_type": "markdown",
   "metadata": {},
   "source": [
    "__As seen, Abhu Dhabi and Dubai Contributes to almost 65% percentage of the sale__\n",
    "\n",
    "__Lets also look at how the sales in the emiartes have dropped over the last 36 months__"
   ]
  },
  {
   "cell_type": "code",
   "execution_count": 923,
   "metadata": {},
   "outputs": [
    {
     "data": {
      "text/html": [
       "<div>\n",
       "<style scoped>\n",
       "    .dataframe tbody tr th:only-of-type {\n",
       "        vertical-align: middle;\n",
       "    }\n",
       "\n",
       "    .dataframe tbody tr th {\n",
       "        vertical-align: top;\n",
       "    }\n",
       "\n",
       "    .dataframe thead th {\n",
       "        text-align: right;\n",
       "    }\n",
       "</style>\n",
       "<table border=\"1\" class=\"dataframe\">\n",
       "  <thead>\n",
       "    <tr style=\"text-align: right;\">\n",
       "      <th></th>\n",
       "      <th>emirate</th>\n",
       "      <th>2017</th>\n",
       "      <th>2018</th>\n",
       "      <th>2019</th>\n",
       "      <th>Var_2018_2017</th>\n",
       "      <th>Var_2019_2018</th>\n",
       "    </tr>\n",
       "  </thead>\n",
       "  <tbody>\n",
       "    <tr>\n",
       "      <th>0</th>\n",
       "      <td>Abu Dhabi</td>\n",
       "      <td>68531100.0</td>\n",
       "      <td>55563400.0</td>\n",
       "      <td>33228700.0</td>\n",
       "      <td>-18.92</td>\n",
       "      <td>-40.20</td>\n",
       "    </tr>\n",
       "    <tr>\n",
       "      <th>1</th>\n",
       "      <td>Ajman</td>\n",
       "      <td>13608800.0</td>\n",
       "      <td>13909500.0</td>\n",
       "      <td>8218600.0</td>\n",
       "      <td>2.21</td>\n",
       "      <td>-40.91</td>\n",
       "    </tr>\n",
       "    <tr>\n",
       "      <th>2</th>\n",
       "      <td>Al-Ain</td>\n",
       "      <td>16372700.0</td>\n",
       "      <td>13753300.0</td>\n",
       "      <td>7489300.0</td>\n",
       "      <td>-16.00</td>\n",
       "      <td>-45.55</td>\n",
       "    </tr>\n",
       "    <tr>\n",
       "      <th>3</th>\n",
       "      <td>Dubai</td>\n",
       "      <td>114425200.0</td>\n",
       "      <td>93364500.0</td>\n",
       "      <td>66264600.0</td>\n",
       "      <td>-18.41</td>\n",
       "      <td>-29.03</td>\n",
       "    </tr>\n",
       "    <tr>\n",
       "      <th>4</th>\n",
       "      <td>Fujairah</td>\n",
       "      <td>15200000.0</td>\n",
       "      <td>10319500.0</td>\n",
       "      <td>4823100.0</td>\n",
       "      <td>-32.11</td>\n",
       "      <td>-53.26</td>\n",
       "    </tr>\n",
       "    <tr>\n",
       "      <th>5</th>\n",
       "      <td>Ras Al Khaimah</td>\n",
       "      <td>18528100.0</td>\n",
       "      <td>13003500.0</td>\n",
       "      <td>6478700.0</td>\n",
       "      <td>-29.82</td>\n",
       "      <td>-50.18</td>\n",
       "    </tr>\n",
       "    <tr>\n",
       "      <th>6</th>\n",
       "      <td>Sharjah</td>\n",
       "      <td>39611100.0</td>\n",
       "      <td>30425200.0</td>\n",
       "      <td>16758200.0</td>\n",
       "      <td>-23.19</td>\n",
       "      <td>-44.92</td>\n",
       "    </tr>\n",
       "    <tr>\n",
       "      <th>7</th>\n",
       "      <td>Umm Al Quwain</td>\n",
       "      <td>2763600.0</td>\n",
       "      <td>3588200.0</td>\n",
       "      <td>2072100.0</td>\n",
       "      <td>29.84</td>\n",
       "      <td>-42.25</td>\n",
       "    </tr>\n",
       "  </tbody>\n",
       "</table>\n",
       "</div>"
      ],
      "text/plain": [
       "          emirate         2017        2018        2019  Var_2018_2017  \\\n",
       "0       Abu Dhabi   68531100.0  55563400.0  33228700.0         -18.92   \n",
       "1           Ajman   13608800.0  13909500.0   8218600.0           2.21   \n",
       "2          Al-Ain   16372700.0  13753300.0   7489300.0         -16.00   \n",
       "3           Dubai  114425200.0  93364500.0  66264600.0         -18.41   \n",
       "4        Fujairah   15200000.0  10319500.0   4823100.0         -32.11   \n",
       "5  Ras Al Khaimah   18528100.0  13003500.0   6478700.0         -29.82   \n",
       "6         Sharjah   39611100.0  30425200.0  16758200.0         -23.19   \n",
       "7   Umm Al Quwain    2763600.0   3588200.0   2072100.0          29.84   \n",
       "\n",
       "   Var_2019_2018  \n",
       "0         -40.20  \n",
       "1         -40.91  \n",
       "2         -45.55  \n",
       "3         -29.03  \n",
       "4         -53.26  \n",
       "5         -50.18  \n",
       "6         -44.92  \n",
       "7         -42.25  "
      ]
     },
     "execution_count": 923,
     "metadata": {},
     "output_type": "execute_result"
    }
   ],
   "source": [
    "df_emirate_sale=DF_Purchase_Full.groupby(['emirate','sale_year'])['sale'].sum().reset_index().pivot( index='emirate',columns='sale_year', values='sale').reset_index()\n",
    "df_emirate_sale.columns=['emirate',  '2017', '2018', '2019']\n",
    "df_emirate_sale['Var_2018_2017']=round(df_emirate_sale['2018']/df_emirate_sale['2017']-1,4)*100\n",
    "df_emirate_sale['Var_2019_2018']=round(df_emirate_sale['2019']/df_emirate_sale['2018']-1,4)*100\n",
    "df_emirate_sale\n",
    "#df_emirate_sale['2018']"
   ]
  },
  {
   "cell_type": "markdown",
   "metadata": {},
   "source": [
    "__One interesting find is that, the samller emiartes have seen bigger drop in sale comapred to the major Emirates like Dubai and Abu Dhabi__"
   ]
  },
  {
   "cell_type": "code",
   "execution_count": 924,
   "metadata": {
    "scrolled": true
   },
   "outputs": [
    {
     "data": {
      "text/plain": [
       "<matplotlib.axes._subplots.AxesSubplot at 0x1f76b2f8828>"
      ]
     },
     "execution_count": 924,
     "metadata": {},
     "output_type": "execute_result"
    },
    {
     "data": {
      "image/png": "[encoded data removed]",
      "text/plain": [
       "<Figure size 432x288 with 1 Axes>"
      ]
     },
     "metadata": {
      "needs_background": "light"
     },
     "output_type": "display_data"
    }
   ],
   "source": [
    "DF_Purchase_Full.groupby(['emirate','sale_year'])['sale'].sum().reset_index().pivot( index='emirate',columns='sale_year', values='sale').plot(kind ='bar')"
   ]
  },
  {
   "cell_type": "markdown",
   "metadata": {},
   "source": [
    "__Now look at Nationality__"
   ]
  },
  {
   "cell_type": "code",
   "execution_count": 925,
   "metadata": {},
   "outputs": [
    {
     "data": {
      "text/plain": [
       "array([<matplotlib.axes._subplots.AxesSubplot object at 0x000001F76B3B4FD0>],\n",
       "      dtype=object)"
      ]
     },
     "execution_count": 925,
     "metadata": {},
     "output_type": "execute_result"
    },
    {
     "data": {
      "image/png": "[encoded data removed]",
      "text/plain": [
       "<Figure size 432x288 with 1 Axes>"
      ]
     },
     "metadata": {},
     "output_type": "display_data"
    }
   ],
   "source": [
    "DF_Purchase_Full.groupby(['nationality'])['sale'].sum().to_frame().sort_values('sale',ascending=False).iloc[:10].plot(kind='pie',subplots=True,autopct='%1.0f%%',legend=False)"
   ]
  },
  {
   "cell_type": "code",
   "execution_count": null,
   "metadata": {},
   "outputs": [],
   "source": []
  },
  {
   "cell_type": "markdown",
   "metadata": {},
   "source": [
    "__U.A.E and Indian nationals account for 75% of the sale__"
   ]
  },
  {
   "cell_type": "markdown",
   "metadata": {},
   "source": [
    "__To analyze the age demography, we first create age group and look at the distribution__"
   ]
  },
  {
   "cell_type": "code",
   "execution_count": 926,
   "metadata": {},
   "outputs": [
    {
     "data": {
      "text/plain": [
       "array([<matplotlib.axes._subplots.AxesSubplot object at 0x000001F76B422A58>],\n",
       "      dtype=object)"
      ]
     },
     "execution_count": 926,
     "metadata": {},
     "output_type": "execute_result"
    },
    {
     "data": {
      "image/png": "[encoded data removed]",
      "text/plain": [
       "<Figure size 432x288 with 1 Axes>"
      ]
     },
     "metadata": {},
     "output_type": "display_data"
    }
   ],
   "source": [
    "bins = [0,30, 40, 50, 60,70]\n",
    "labels =['20s', '30s', '40s', '50s', '60s']\n",
    "DF_Purchase_Full.groupby(pd.cut(DF_Purchase_Full['age'], bins,labels=labels))['customer_id'].count().plot(kind='pie',subplots=True,autopct='%1.0f%%',legend=False)"
   ]
  },
  {
   "cell_type": "markdown",
   "metadata": {},
   "source": [
    "__50%  of all customers are under 40 years of age__\n",
    "\n",
    "__Now we look at the preference for each model among the different age group__"
   ]
  },
  {
   "cell_type": "code",
   "execution_count": 927,
   "metadata": {},
   "outputs": [
    {
     "data": {
      "text/html": [
       "<div>\n",
       "<style scoped>\n",
       "    .dataframe tbody tr th:only-of-type {\n",
       "        vertical-align: middle;\n",
       "    }\n",
       "\n",
       "    .dataframe tbody tr th {\n",
       "        vertical-align: top;\n",
       "    }\n",
       "\n",
       "    .dataframe thead th {\n",
       "        text-align: right;\n",
       "    }\n",
       "</style>\n",
       "<table border=\"1\" class=\"dataframe\">\n",
       "  <thead>\n",
       "    <tr style=\"text-align: right;\">\n",
       "      <th>product_lead</th>\n",
       "      <th>Jupiter</th>\n",
       "      <th>Pluto</th>\n",
       "      <th>Saturn</th>\n",
       "    </tr>\n",
       "    <tr>\n",
       "      <th>age</th>\n",
       "      <th></th>\n",
       "      <th></th>\n",
       "      <th></th>\n",
       "    </tr>\n",
       "  </thead>\n",
       "  <tbody>\n",
       "    <tr>\n",
       "      <th>20s</th>\n",
       "      <td>612</td>\n",
       "      <td>332</td>\n",
       "      <td>311</td>\n",
       "    </tr>\n",
       "    <tr>\n",
       "      <th>30s</th>\n",
       "      <td>1679</td>\n",
       "      <td>1237</td>\n",
       "      <td>1444</td>\n",
       "    </tr>\n",
       "    <tr>\n",
       "      <th>40s</th>\n",
       "      <td>1641</td>\n",
       "      <td>799</td>\n",
       "      <td>1141</td>\n",
       "    </tr>\n",
       "    <tr>\n",
       "      <th>50s</th>\n",
       "      <td>796</td>\n",
       "      <td>308</td>\n",
       "      <td>477</td>\n",
       "    </tr>\n",
       "    <tr>\n",
       "      <th>60s</th>\n",
       "      <td>371</td>\n",
       "      <td>139</td>\n",
       "      <td>236</td>\n",
       "    </tr>\n",
       "  </tbody>\n",
       "</table>\n",
       "</div>"
      ],
      "text/plain": [
       "product_lead  Jupiter  Pluto  Saturn\n",
       "age                                 \n",
       "20s               612    332     311\n",
       "30s              1679   1237    1444\n",
       "40s              1641    799    1141\n",
       "50s               796    308     477\n",
       "60s               371    139     236"
      ]
     },
     "execution_count": 927,
     "metadata": {},
     "output_type": "execute_result"
    }
   ],
   "source": [
    "bins = [0,30, 40, 50, 60,70]\n",
    "labels =['20s', '30s', '40s', '50s', '60s']\n",
    "DF_Purchase_Full.groupby([pd.cut(DF_Purchase_Full['age'], bins,labels=labels),'product_lead'])['customer_id'].count().reset_index().pivot( index='age',columns='product_lead', values='customer_id')"
   ]
  },
  {
   "cell_type": "markdown",
   "metadata": {},
   "source": [
    "__The luxury SUV, Jupiter, is preferred mostly by customers in their 30s and 40s__"
   ]
  },
  {
   "cell_type": "code",
   "execution_count": null,
   "metadata": {},
   "outputs": [],
   "source": []
  },
  {
   "cell_type": "markdown",
   "metadata": {},
   "source": [
    "__We follow a similar approach for customers in different salary buckets__"
   ]
  },
  {
   "cell_type": "code",
   "execution_count": 928,
   "metadata": {},
   "outputs": [
    {
     "data": {
      "text/plain": [
       "array([<matplotlib.axes._subplots.AxesSubplot object at 0x000001F76BA49BE0>],\n",
       "      dtype=object)"
      ]
     },
     "execution_count": 928,
     "metadata": {},
     "output_type": "execute_result"
    },
    {
     "data": {
      "image/png": "[encoded data removed]",
      "text/plain": [
       "<Figure size 432x288 with 1 Axes>"
      ]
     },
     "metadata": {},
     "output_type": "display_data"
    }
   ],
   "source": [
    "bins = [0,10000, 20000, 30000, 40000,50000,60000,70000,80000]\n",
    "labels =['below 10K', '10k-20k', '20k-30k', '30k-40k', '40k-50k', '50k-60k', '60k-70k', '70k-80k']\n",
    "DF_Purchase_Full.groupby(pd.cut(DF_Purchase_Full['salary'], bins,labels=labels))['customer_id'].count().plot(kind='pie',subplots=True,autopct='%1.0f%%',legend=False)"
   ]
  },
  {
   "cell_type": "code",
   "execution_count": 929,
   "metadata": {},
   "outputs": [
    {
     "data": {
      "text/plain": [
       "<matplotlib.axes._subplots.AxesSubplot at 0x1f76baafda0>"
      ]
     },
     "execution_count": 929,
     "metadata": {},
     "output_type": "execute_result"
    },
    {
     "data": {
      "image/png": "[encoded data removed]",
      "text/plain": [
       "<Figure size 432x288 with 1 Axes>"
      ]
     },
     "metadata": {
      "needs_background": "light"
     },
     "output_type": "display_data"
    }
   ],
   "source": [
    "bins = [0,10000, 20000, 30000, 40000,50000,60000,70000,80000]\n",
    "labels =['below 10K', '10k-20k', '20k-30k', '30k-40k', '40k-50k', '50k-60k', '60k-70k', '70k-80k']\n",
    "DF_Purchase_Full.groupby([pd.cut(DF_Purchase_Full['salary'], bins,labels=labels),'product_purchase'])['customer_id'].count().reset_index().pivot( index='salary',columns='product_purchase', values='customer_id').plot(kind ='bar')"
   ]
  },
  {
   "cell_type": "markdown",
   "metadata": {},
   "source": [
    "## Impact of Promotions"
   ]
  },
  {
   "cell_type": "markdown",
   "metadata": {},
   "source": [
    "__Two initiatives were trialed two comabt the drop in sales__\n",
    "\n",
    "__From January 2018, the brand decided to up the maximum potential discounts from 10% to 20%__\n",
    "\n",
    "__From January 2019, the brand decided to increase the price of the Jupiter from 80,000 to 90,000__\n"
   ]
  },
  {
   "cell_type": "markdown",
   "metadata": {},
   "source": [
    "First let us look the impact of increased maximum discount. We see that the avearge discount has indeed increased from 2018"
   ]
  },
  {
   "cell_type": "code",
   "execution_count": 930,
   "metadata": {},
   "outputs": [
    {
     "data": {
      "text/html": [
       "<div>\n",
       "<style scoped>\n",
       "    .dataframe tbody tr th:only-of-type {\n",
       "        vertical-align: middle;\n",
       "    }\n",
       "\n",
       "    .dataframe tbody tr th {\n",
       "        vertical-align: top;\n",
       "    }\n",
       "\n",
       "    .dataframe thead th {\n",
       "        text-align: right;\n",
       "    }\n",
       "</style>\n",
       "<table border=\"1\" class=\"dataframe\">\n",
       "  <thead>\n",
       "    <tr style=\"text-align: right;\">\n",
       "      <th></th>\n",
       "      <th>discount</th>\n",
       "    </tr>\n",
       "    <tr>\n",
       "      <th>sale_year</th>\n",
       "      <th></th>\n",
       "    </tr>\n",
       "  </thead>\n",
       "  <tbody>\n",
       "    <tr>\n",
       "      <th>2017</th>\n",
       "      <td>3106.452278</td>\n",
       "    </tr>\n",
       "    <tr>\n",
       "      <th>2018</th>\n",
       "      <td>6206.280875</td>\n",
       "    </tr>\n",
       "    <tr>\n",
       "      <th>2019</th>\n",
       "      <td>6681.825692</td>\n",
       "    </tr>\n",
       "  </tbody>\n",
       "</table>\n",
       "</div>"
      ],
      "text/plain": [
       "              discount\n",
       "sale_year             \n",
       "2017       3106.452278\n",
       "2018       6206.280875\n",
       "2019       6681.825692"
      ]
     },
     "execution_count": 930,
     "metadata": {},
     "output_type": "execute_result"
    }
   ],
   "source": [
    "DF_Purchases_Clean.groupby('sale_year')['discount'].mean().to_frame()"
   ]
  },
  {
   "cell_type": "markdown",
   "metadata": {},
   "source": [
    "_To meassure the impact of discount, first we look at the average selling price across years. We should look at the average price as the number of units sold are not the same in each year_"
   ]
  },
  {
   "cell_type": "code",
   "execution_count": 931,
   "metadata": {},
   "outputs": [
    {
     "data": {
      "text/html": [
       "<div>\n",
       "<style scoped>\n",
       "    .dataframe tbody tr th:only-of-type {\n",
       "        vertical-align: middle;\n",
       "    }\n",
       "\n",
       "    .dataframe tbody tr th {\n",
       "        vertical-align: top;\n",
       "    }\n",
       "\n",
       "    .dataframe thead th {\n",
       "        text-align: right;\n",
       "    }\n",
       "</style>\n",
       "<table border=\"1\" class=\"dataframe\">\n",
       "  <thead>\n",
       "    <tr style=\"text-align: right;\">\n",
       "      <th></th>\n",
       "      <th>sale</th>\n",
       "    </tr>\n",
       "    <tr>\n",
       "      <th>sale_year</th>\n",
       "      <th></th>\n",
       "    </tr>\n",
       "  </thead>\n",
       "  <tbody>\n",
       "    <tr>\n",
       "      <th>2017</th>\n",
       "      <td>59583.714698</td>\n",
       "    </tr>\n",
       "    <tr>\n",
       "      <th>2018</th>\n",
       "      <td>55028.722653</td>\n",
       "    </tr>\n",
       "    <tr>\n",
       "      <th>2019</th>\n",
       "      <td>60030.276745</td>\n",
       "    </tr>\n",
       "  </tbody>\n",
       "</table>\n",
       "</div>"
      ],
      "text/plain": [
       "                   sale\n",
       "sale_year              \n",
       "2017       59583.714698\n",
       "2018       55028.722653\n",
       "2019       60030.276745"
      ]
     },
     "execution_count": 931,
     "metadata": {},
     "output_type": "execute_result"
    }
   ],
   "source": [
    "DF_Purchases_Clean.groupby('sale_year')['sale'].mean().to_frame()"
   ]
  },
  {
   "cell_type": "markdown",
   "metadata": {},
   "source": [
    "__An intersting find here is that, the discount seemed to have lowered the avearge priced in 2018, but not in 2019. This appears to be because of the increase in price of top sellig model Jupiter in 2019__\n",
    "\n",
    "__Let's dig deeper and see if this is the case__"
   ]
  },
  {
   "cell_type": "code",
   "execution_count": 932,
   "metadata": {},
   "outputs": [
    {
     "data": {
      "text/html": [
       "<div>\n",
       "<style scoped>\n",
       "    .dataframe tbody tr th:only-of-type {\n",
       "        vertical-align: middle;\n",
       "    }\n",
       "\n",
       "    .dataframe tbody tr th {\n",
       "        vertical-align: top;\n",
       "    }\n",
       "\n",
       "    .dataframe thead th {\n",
       "        text-align: right;\n",
       "    }\n",
       "</style>\n",
       "<table border=\"1\" class=\"dataframe\">\n",
       "  <thead>\n",
       "    <tr style=\"text-align: right;\">\n",
       "      <th>sale_year</th>\n",
       "      <th>2017</th>\n",
       "      <th>2018</th>\n",
       "      <th>2019</th>\n",
       "    </tr>\n",
       "    <tr>\n",
       "      <th>product_purchase</th>\n",
       "      <th></th>\n",
       "      <th></th>\n",
       "      <th></th>\n",
       "    </tr>\n",
       "  </thead>\n",
       "  <tbody>\n",
       "    <tr>\n",
       "      <th>Jupiter</th>\n",
       "      <td>76024.0</td>\n",
       "      <td>71836.0</td>\n",
       "      <td>81133.0</td>\n",
       "    </tr>\n",
       "    <tr>\n",
       "      <th>Pluto</th>\n",
       "      <td>38006.0</td>\n",
       "      <td>35975.0</td>\n",
       "      <td>35964.0</td>\n",
       "    </tr>\n",
       "    <tr>\n",
       "      <th>Saturn</th>\n",
       "      <td>47554.0</td>\n",
       "      <td>44985.0</td>\n",
       "      <td>44797.0</td>\n",
       "    </tr>\n",
       "  </tbody>\n",
       "</table>\n",
       "</div>"
      ],
      "text/plain": [
       "sale_year            2017     2018     2019\n",
       "product_purchase                           \n",
       "Jupiter           76024.0  71836.0  81133.0\n",
       "Pluto             38006.0  35975.0  35964.0\n",
       "Saturn            47554.0  44985.0  44797.0"
      ]
     },
     "execution_count": 932,
     "metadata": {},
     "output_type": "execute_result"
    }
   ],
   "source": [
    "DF_Purchase_Full.groupby(['product_purchase','sale_year'])['sale'].mean().round(0).reset_index().pivot( index='product_purchase',columns='sale_year', values='sale')"
   ]
  },
  {
   "cell_type": "markdown",
   "metadata": {},
   "source": [
    "__Our guess was right !!__\n",
    "\n",
    "__Even after discount, Jupite was selling over pre 2019 undiscounted price and at much higher than 2018 discounted price__\n",
    "\n",
    "__Price increase has nullified any effect discoount had on sale for Jupiter__"
   ]
  },
  {
   "cell_type": "code",
   "execution_count": null,
   "metadata": {},
   "outputs": [],
   "source": []
  },
  {
   "cell_type": "markdown",
   "metadata": {},
   "source": [
    "__The second metric we use to meassure the impact of discount is to check if more people who came enquiring for a lower priced model has endde up buying a higher price model in 2018 compared to 2017__\n",
    "\n",
    "__We notice that the product value of particular customer in the Lea dataset is not the same as the product value in the Purchase dataset. So we assume that these customres initailly enquired about a model and ended up buying a different model__\n",
    "\n",
    "__One of the reasons for this can be assumed to be the increased discount in 2018__"
   ]
  },
  {
   "cell_type": "code",
   "execution_count": 933,
   "metadata": {},
   "outputs": [
    {
     "data": {
      "text/plain": [
       "<matplotlib.axes._subplots.AxesSubplot at 0x1f76baf7198>"
      ]
     },
     "execution_count": 933,
     "metadata": {},
     "output_type": "execute_result"
    },
    {
     "data": {
      "image/png": "[encoded data removed]",
      "text/plain": [
       "<Figure size 432x288 with 1 Axes>"
      ]
     },
     "metadata": {
      "needs_background": "light"
     },
     "output_type": "display_data"
    }
   ],
   "source": [
    "DF_Purchase_Full.groupby(['product_purchase','sale_year'])['sale'].mean().reset_index().pivot( index='product_purchase',columns='sale_year', values='sale').plot(kind ='bar')"
   ]
  },
  {
   "cell_type": "code",
   "execution_count": 934,
   "metadata": {},
   "outputs": [
    {
     "data": {
      "text/html": [
       "<div>\n",
       "<style scoped>\n",
       "    .dataframe tbody tr th:only-of-type {\n",
       "        vertical-align: middle;\n",
       "    }\n",
       "\n",
       "    .dataframe tbody tr th {\n",
       "        vertical-align: top;\n",
       "    }\n",
       "\n",
       "    .dataframe thead th {\n",
       "        text-align: right;\n",
       "    }\n",
       "</style>\n",
       "<table border=\"1\" class=\"dataframe\">\n",
       "  <thead>\n",
       "    <tr style=\"text-align: right;\">\n",
       "      <th>sale_year</th>\n",
       "      <th>2017</th>\n",
       "      <th>2018</th>\n",
       "      <th>2019</th>\n",
       "    </tr>\n",
       "    <tr>\n",
       "      <th>product_purchase</th>\n",
       "      <th></th>\n",
       "      <th></th>\n",
       "      <th></th>\n",
       "    </tr>\n",
       "  </thead>\n",
       "  <tbody>\n",
       "    <tr>\n",
       "      <th>Jupiter</th>\n",
       "      <td>2421</td>\n",
       "      <td>1873</td>\n",
       "      <td>1137</td>\n",
       "    </tr>\n",
       "    <tr>\n",
       "      <th>Pluto</th>\n",
       "      <td>1107</td>\n",
       "      <td>843</td>\n",
       "      <td>502</td>\n",
       "    </tr>\n",
       "    <tr>\n",
       "      <th>Saturn</th>\n",
       "      <td>1323</td>\n",
       "      <td>1535</td>\n",
       "      <td>782</td>\n",
       "    </tr>\n",
       "  </tbody>\n",
       "</table>\n",
       "</div>"
      ],
      "text/plain": [
       "sale_year         2017  2018  2019\n",
       "product_purchase                  \n",
       "Jupiter           2421  1873  1137\n",
       "Pluto             1107   843   502\n",
       "Saturn            1323  1535   782"
      ]
     },
     "execution_count": 934,
     "metadata": {},
     "output_type": "execute_result"
    }
   ],
   "source": [
    "DF_Purchase_Full.groupby(['product_purchase','sale_year'])['customer_id'].count().reset_index().pivot( index='product_purchase',columns='sale_year', values='customer_id')"
   ]
  },
  {
   "cell_type": "code",
   "execution_count": 632,
   "metadata": {},
   "outputs": [
    {
     "data": {
      "text/plain": [
       "2228"
      ]
     },
     "execution_count": 632,
     "metadata": {},
     "output_type": "execute_result"
    }
   ],
   "source": [
    "DF_Purchase_Upsell= DF_Purchase_Full[((DF_Purchase_Full['product_lead']==\"Pluto\") & (DF_Purchase_Full['product_purchase']==\"Saturn\"))|((DF_Purchase_Full['product_lead']==\"Pluto\") & (DF_Purchase_Full['product_purchase']==\"Jupiter\")|((DF_Purchase_Full['product_lead']==\"Saturn\") & (DF_Purchase_Full['product_purchase']==\"Jupiter\")))]\n",
    "DF_Purchase_Upsell.customer_id.count()"
   ]
  },
  {
   "cell_type": "code",
   "execution_count": 935,
   "metadata": {
    "scrolled": true
   },
   "outputs": [
    {
     "data": {
      "text/html": [
       "<div>\n",
       "<style scoped>\n",
       "    .dataframe tbody tr th:only-of-type {\n",
       "        vertical-align: middle;\n",
       "    }\n",
       "\n",
       "    .dataframe tbody tr th {\n",
       "        vertical-align: top;\n",
       "    }\n",
       "\n",
       "    .dataframe thead th {\n",
       "        text-align: right;\n",
       "    }\n",
       "</style>\n",
       "<table border=\"1\" class=\"dataframe\">\n",
       "  <thead>\n",
       "    <tr style=\"text-align: right;\">\n",
       "      <th>sale_year</th>\n",
       "      <th>2018</th>\n",
       "      <th>2019</th>\n",
       "    </tr>\n",
       "    <tr>\n",
       "      <th>product_purchase</th>\n",
       "      <th></th>\n",
       "      <th></th>\n",
       "    </tr>\n",
       "  </thead>\n",
       "  <tbody>\n",
       "    <tr>\n",
       "      <th>Jupiter</th>\n",
       "      <td>1031</td>\n",
       "      <td>659</td>\n",
       "    </tr>\n",
       "    <tr>\n",
       "      <th>Saturn</th>\n",
       "      <td>347</td>\n",
       "      <td>191</td>\n",
       "    </tr>\n",
       "  </tbody>\n",
       "</table>\n",
       "</div>"
      ],
      "text/plain": [
       "sale_year         2018  2019\n",
       "product_purchase            \n",
       "Jupiter           1031   659\n",
       "Saturn             347   191"
      ]
     },
     "execution_count": 935,
     "metadata": {},
     "output_type": "execute_result"
    }
   ],
   "source": [
    "DF_Purchase_Upsell.groupby(['product_purchase','sale_year'])['customer_id'].count().reset_index().pivot( index='product_purchase',columns='sale_year', values='customer_id')"
   ]
  },
  {
   "cell_type": "markdown",
   "metadata": {},
   "source": [
    "__We notice that the upsell to higher model has indeed happended post 2017__"
   ]
  },
  {
   "cell_type": "code",
   "execution_count": null,
   "metadata": {},
   "outputs": [],
   "source": []
  },
  {
   "cell_type": "markdown",
   "metadata": {},
   "source": [
    "_The last metric we anlyze is the conversion rate change of an enquiry into sale after 2017_"
   ]
  },
  {
   "cell_type": "code",
   "execution_count": 936,
   "metadata": {},
   "outputs": [],
   "source": [
    "DF_Lead_Conversion=DF_Leads_Clean.merge(DF_Purchases_Clean[['customer_id','product','sale','profit','sale_year','sale_month','year_month']],how='left',on='customer_id', suffixes=('_lead', '_purchase'))"
   ]
  },
  {
   "cell_type": "code",
   "execution_count": 937,
   "metadata": {},
   "outputs": [
    {
     "data": {
      "text/html": [
       "<div>\n",
       "<style scoped>\n",
       "    .dataframe tbody tr th:only-of-type {\n",
       "        vertical-align: middle;\n",
       "    }\n",
       "\n",
       "    .dataframe tbody tr th {\n",
       "        vertical-align: top;\n",
       "    }\n",
       "\n",
       "    .dataframe thead th {\n",
       "        text-align: right;\n",
       "    }\n",
       "</style>\n",
       "<table border=\"1\" class=\"dataframe\">\n",
       "  <thead>\n",
       "    <tr style=\"text-align: right;\">\n",
       "      <th></th>\n",
       "      <th>customer_id</th>\n",
       "      <th>lead_date</th>\n",
       "      <th>product_lead</th>\n",
       "      <th>gender</th>\n",
       "      <th>nationality</th>\n",
       "      <th>emirate</th>\n",
       "      <th>salary</th>\n",
       "      <th>lead_year</th>\n",
       "      <th>lead_month</th>\n",
       "      <th>age</th>\n",
       "      <th>product_purchase</th>\n",
       "      <th>sale</th>\n",
       "      <th>profit</th>\n",
       "      <th>sale_year</th>\n",
       "      <th>sale_month</th>\n",
       "      <th>year_month</th>\n",
       "    </tr>\n",
       "  </thead>\n",
       "  <tbody>\n",
       "    <tr>\n",
       "      <th>0</th>\n",
       "      <td>1</td>\n",
       "      <td>2016-12-01</td>\n",
       "      <td>Saturn</td>\n",
       "      <td>Male</td>\n",
       "      <td>India</td>\n",
       "      <td>Dubai</td>\n",
       "      <td>24516.0</td>\n",
       "      <td>2016</td>\n",
       "      <td>12</td>\n",
       "      <td>38</td>\n",
       "      <td>NaN</td>\n",
       "      <td>NaN</td>\n",
       "      <td>NaN</td>\n",
       "      <td>NaN</td>\n",
       "      <td>NaN</td>\n",
       "      <td>NaN</td>\n",
       "    </tr>\n",
       "    <tr>\n",
       "      <th>1</th>\n",
       "      <td>2</td>\n",
       "      <td>2016-12-01</td>\n",
       "      <td>Pluto</td>\n",
       "      <td>Male</td>\n",
       "      <td>U.A.E.</td>\n",
       "      <td>Sharjah</td>\n",
       "      <td>25299.0</td>\n",
       "      <td>2016</td>\n",
       "      <td>12</td>\n",
       "      <td>53</td>\n",
       "      <td>NaN</td>\n",
       "      <td>NaN</td>\n",
       "      <td>NaN</td>\n",
       "      <td>NaN</td>\n",
       "      <td>NaN</td>\n",
       "      <td>NaN</td>\n",
       "    </tr>\n",
       "    <tr>\n",
       "      <th>2</th>\n",
       "      <td>3</td>\n",
       "      <td>2016-12-01</td>\n",
       "      <td>Pluto</td>\n",
       "      <td>Male</td>\n",
       "      <td>Pakistan</td>\n",
       "      <td>Sharjah</td>\n",
       "      <td>12351.0</td>\n",
       "      <td>2016</td>\n",
       "      <td>12</td>\n",
       "      <td>62</td>\n",
       "      <td>NaN</td>\n",
       "      <td>NaN</td>\n",
       "      <td>NaN</td>\n",
       "      <td>NaN</td>\n",
       "      <td>NaN</td>\n",
       "      <td>NaN</td>\n",
       "    </tr>\n",
       "    <tr>\n",
       "      <th>3</th>\n",
       "      <td>4</td>\n",
       "      <td>2016-12-01</td>\n",
       "      <td>Saturn</td>\n",
       "      <td>Male</td>\n",
       "      <td>India</td>\n",
       "      <td>Dubai</td>\n",
       "      <td>9781.0</td>\n",
       "      <td>2016</td>\n",
       "      <td>12</td>\n",
       "      <td>50</td>\n",
       "      <td>NaN</td>\n",
       "      <td>NaN</td>\n",
       "      <td>NaN</td>\n",
       "      <td>NaN</td>\n",
       "      <td>NaN</td>\n",
       "      <td>NaN</td>\n",
       "    </tr>\n",
       "    <tr>\n",
       "      <th>4</th>\n",
       "      <td>5</td>\n",
       "      <td>2016-12-01</td>\n",
       "      <td>Jupiter</td>\n",
       "      <td>Female</td>\n",
       "      <td>U.A.E.</td>\n",
       "      <td>Fujairah</td>\n",
       "      <td>18430.0</td>\n",
       "      <td>2016</td>\n",
       "      <td>12</td>\n",
       "      <td>36</td>\n",
       "      <td>NaN</td>\n",
       "      <td>NaN</td>\n",
       "      <td>NaN</td>\n",
       "      <td>NaN</td>\n",
       "      <td>NaN</td>\n",
       "      <td>NaN</td>\n",
       "    </tr>\n",
       "  </tbody>\n",
       "</table>\n",
       "</div>"
      ],
      "text/plain": [
       "   customer_id   lead_date product_lead  gender nationality   emirate  \\\n",
       "0            1  2016-12-01       Saturn    Male       India     Dubai   \n",
       "1            2  2016-12-01        Pluto    Male      U.A.E.   Sharjah   \n",
       "2            3  2016-12-01        Pluto    Male    Pakistan   Sharjah   \n",
       "3            4  2016-12-01       Saturn    Male       India     Dubai   \n",
       "4            5  2016-12-01      Jupiter  Female      U.A.E.  Fujairah   \n",
       "\n",
       "    salary  lead_year  lead_month  age product_purchase  sale  profit  \\\n",
       "0  24516.0       2016          12   38              NaN   NaN     NaN   \n",
       "1  25299.0       2016          12   53              NaN   NaN     NaN   \n",
       "2  12351.0       2016          12   62              NaN   NaN     NaN   \n",
       "3   9781.0       2016          12   50              NaN   NaN     NaN   \n",
       "4  18430.0       2016          12   36              NaN   NaN     NaN   \n",
       "\n",
       "   sale_year  sale_month year_month  \n",
       "0        NaN         NaN        NaN  \n",
       "1        NaN         NaN        NaN  \n",
       "2        NaN         NaN        NaN  \n",
       "3        NaN         NaN        NaN  \n",
       "4        NaN         NaN        NaN  "
      ]
     },
     "execution_count": 937,
     "metadata": {},
     "output_type": "execute_result"
    }
   ],
   "source": [
    "DF_Lead_Conversion.head()"
   ]
  },
  {
   "cell_type": "code",
   "execution_count": 938,
   "metadata": {},
   "outputs": [
    {
     "data": {
      "text/html": [
       "<div>\n",
       "<style scoped>\n",
       "    .dataframe tbody tr th:only-of-type {\n",
       "        vertical-align: middle;\n",
       "    }\n",
       "\n",
       "    .dataframe tbody tr th {\n",
       "        vertical-align: top;\n",
       "    }\n",
       "\n",
       "    .dataframe thead tr th {\n",
       "        text-align: left;\n",
       "    }\n",
       "</style>\n",
       "<table border=\"1\" class=\"dataframe\">\n",
       "  <thead>\n",
       "    <tr>\n",
       "      <th></th>\n",
       "      <th>product_lead</th>\n",
       "      <th colspan=\"4\" halign=\"left\">customer_id</th>\n",
       "      <th colspan=\"4\" halign=\"left\">product_purchase</th>\n",
       "    </tr>\n",
       "    <tr>\n",
       "      <th>lead_year</th>\n",
       "      <th></th>\n",
       "      <th>2016</th>\n",
       "      <th>2017</th>\n",
       "      <th>2018</th>\n",
       "      <th>2019</th>\n",
       "      <th>2016</th>\n",
       "      <th>2017</th>\n",
       "      <th>2018</th>\n",
       "      <th>2019</th>\n",
       "    </tr>\n",
       "  </thead>\n",
       "  <tbody>\n",
       "    <tr>\n",
       "      <th>0</th>\n",
       "      <td>Jupiter</td>\n",
       "      <td>732</td>\n",
       "      <td>8350</td>\n",
       "      <td>5886</td>\n",
       "      <td>3326</td>\n",
       "      <td>0</td>\n",
       "      <td>2421</td>\n",
       "      <td>1725</td>\n",
       "      <td>953</td>\n",
       "    </tr>\n",
       "    <tr>\n",
       "      <th>1</th>\n",
       "      <td>Pluto</td>\n",
       "      <td>688</td>\n",
       "      <td>4774</td>\n",
       "      <td>3518</td>\n",
       "      <td>2227</td>\n",
       "      <td>0</td>\n",
       "      <td>1107</td>\n",
       "      <td>1084</td>\n",
       "      <td>624</td>\n",
       "    </tr>\n",
       "    <tr>\n",
       "      <th>2</th>\n",
       "      <td>Saturn</td>\n",
       "      <td>428</td>\n",
       "      <td>4297</td>\n",
       "      <td>4669</td>\n",
       "      <td>3115</td>\n",
       "      <td>0</td>\n",
       "      <td>1323</td>\n",
       "      <td>1442</td>\n",
       "      <td>844</td>\n",
       "    </tr>\n",
       "  </tbody>\n",
       "</table>\n",
       "</div>"
      ],
      "text/plain": [
       "          product_lead customer_id                   product_purchase        \\\n",
       "lead_year                     2016  2017  2018  2019             2016  2017   \n",
       "0              Jupiter         732  8350  5886  3326                0  2421   \n",
       "1                Pluto         688  4774  3518  2227                0  1107   \n",
       "2               Saturn         428  4297  4669  3115                0  1323   \n",
       "\n",
       "                      \n",
       "lead_year  2018 2019  \n",
       "0          1725  953  \n",
       "1          1084  624  \n",
       "2          1442  844  "
      ]
     },
     "execution_count": 938,
     "metadata": {},
     "output_type": "execute_result"
    }
   ],
   "source": [
    "DF_Lead_Conversion.groupby(['product_lead','lead_year']).agg({'customer_id':'count','product_purchase':'count'}) .reset_index().pivot( index='product_lead',columns='lead_year', values=['customer_id','product_purchase']).reset_index()"
   ]
  },
  {
   "cell_type": "markdown",
   "metadata": {},
   "source": [
    "__We see that the conversion rate has remained more or less the same over the last 36 months__"
   ]
  },
  {
   "cell_type": "markdown",
   "metadata": {},
   "source": [
    "### Impact of the Price increase of Jupiter in Jan 2019"
   ]
  },
  {
   "cell_type": "markdown",
   "metadata": {},
   "source": [
    "_We ahve already observed that_\n",
    "\n",
    "_Even after discount, Jupite was selling over pre 2019 undiscounted price and at much higher than 2018 discounted price_\n",
    "\n",
    "__In the hind sight, this appears to be a bad move as this has driven the avearge selling price of Jupiter up on an already bad market. The aim shoud have been to drive the revenue through volume than price__"
   ]
  },
  {
   "cell_type": "code",
   "execution_count": null,
   "metadata": {},
   "outputs": [],
   "source": []
  }
 ],
 "metadata": {
  "kernelspec": {
   "display_name": "Python 3",
   "language": "python",
   "name": "python3"
  },
  "language_info": {
   "codemirror_mode": {
    "name": "ipython",
    "version": 3
   },
   "file_extension": ".py",
   "mimetype": "text/x-python",
   "name": "python",
   "nbconvert_exporter": "python",
   "pygments_lexer": "ipython3",
   "version": "3.7.3"
  }
 },
 "nbformat": 4,
 "nbformat_minor": 2
}
